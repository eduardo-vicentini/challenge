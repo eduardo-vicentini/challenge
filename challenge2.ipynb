{
  "nbformat": 4,
  "nbformat_minor": 0,
  "metadata": {
    "kernelspec": {
      "display_name": "Python 3",
      "language": "python",
      "name": "python3"
    },
    "language_info": {
      "codemirror_mode": {
        "name": "ipython",
        "version": 3
      },
      "file_extension": ".py",
      "mimetype": "text/x-python",
      "name": "python",
      "nbconvert_exporter": "python",
      "pygments_lexer": "ipython3",
      "version": "3.8.2"
    },
    "colab": {
      "name": "challenge2.ipynb",
      "provenance": []
    }
  },
  "cells": [
    {
      "cell_type": "code",
      "metadata": {
        "id": "mv54yBKR23wf",
        "colab_type": "code",
        "colab": {
          "base_uri": "https://localhost:8080/",
          "height": 51
        },
        "outputId": "e1efe89f-3a53-4036-95a5-c9311384a81e"
      },
      "source": [
        "import pandas as pd\n",
        "import matplotlib.pyplot as plt\n",
        "\n",
        "import seaborn as sns\n",
        "sns.set_style(\"dark\")\n",
        "# for constant figure size\n",
        "BIG_FIG = (15,5)\n",
        "import numpy as np\n",
        "from sklearn.preprocessing import MinMaxScaler\n",
        "\n",
        "import xgboost as xgb\n",
        "from xgboost import plot_importance, plot_tree\n",
        "import statsmodels.api as sm\n",
        "import statsmodels.tsa.api as smt\n",
        "from fbprophet import Prophet\n",
        "\n",
        "import warnings\n",
        "warnings.filterwarnings('ignore')"
      ],
      "execution_count": 1,
      "outputs": [
        {
          "output_type": "stream",
          "text": [
            "/usr/local/lib/python3.6/dist-packages/statsmodels/tools/_testing.py:19: FutureWarning: pandas.util.testing is deprecated. Use the functions in the public API at pandas.testing instead.\n",
            "  import pandas.util.testing as tm\n"
          ],
          "name": "stderr"
        }
      ]
    },
    {
      "cell_type": "code",
      "metadata": {
        "id": "PS_E0w2j23wm",
        "colab_type": "code",
        "colab": {
          "base_uri": "https://localhost:8080/",
          "height": 419
        },
        "outputId": "5c6825e3-a4f9-487b-cd5f-80523adb5825"
      },
      "source": [
        "data = pd.read_csv(\"https://raw.githubusercontent.com/eduardo-vicentini/challenge/master/data_comexstat.csv\", encoding=\"ISO-8859-1\")\n",
        "data['date']  = pd.to_datetime(data['date'])\n",
        "data"
      ],
      "execution_count": 2,
      "outputs": [
        {
          "output_type": "execute_result",
          "data": {
            "text/html": [
              "<div>\n",
              "<style scoped>\n",
              "    .dataframe tbody tr th:only-of-type {\n",
              "        vertical-align: middle;\n",
              "    }\n",
              "\n",
              "    .dataframe tbody tr th {\n",
              "        vertical-align: top;\n",
              "    }\n",
              "\n",
              "    .dataframe thead th {\n",
              "        text-align: right;\n",
              "    }\n",
              "</style>\n",
              "<table border=\"1\" class=\"dataframe\">\n",
              "  <thead>\n",
              "    <tr style=\"text-align: right;\">\n",
              "      <th></th>\n",
              "      <th>date</th>\n",
              "      <th>product</th>\n",
              "      <th>state</th>\n",
              "      <th>country</th>\n",
              "      <th>type</th>\n",
              "      <th>route</th>\n",
              "      <th>tons</th>\n",
              "      <th>usd</th>\n",
              "    </tr>\n",
              "  </thead>\n",
              "  <tbody>\n",
              "    <tr>\n",
              "      <th>0</th>\n",
              "      <td>1997-01-01</td>\n",
              "      <td>corn</td>\n",
              "      <td>ES</td>\n",
              "      <td>United States</td>\n",
              "      <td>Import</td>\n",
              "      <td>Sea</td>\n",
              "      <td>44.045</td>\n",
              "      <td>113029.0</td>\n",
              "    </tr>\n",
              "    <tr>\n",
              "      <th>1</th>\n",
              "      <td>1997-01-01</td>\n",
              "      <td>corn</td>\n",
              "      <td>GO</td>\n",
              "      <td>Argentina</td>\n",
              "      <td>Import</td>\n",
              "      <td>Ground</td>\n",
              "      <td>54.000</td>\n",
              "      <td>36720.0</td>\n",
              "    </tr>\n",
              "    <tr>\n",
              "      <th>2</th>\n",
              "      <td>1997-01-01</td>\n",
              "      <td>corn</td>\n",
              "      <td>GO</td>\n",
              "      <td>Bolivia</td>\n",
              "      <td>Export</td>\n",
              "      <td>Ground</td>\n",
              "      <td>0.200</td>\n",
              "      <td>180.0</td>\n",
              "    </tr>\n",
              "    <tr>\n",
              "      <th>3</th>\n",
              "      <td>1997-01-01</td>\n",
              "      <td>corn</td>\n",
              "      <td>GO</td>\n",
              "      <td>United States</td>\n",
              "      <td>Export</td>\n",
              "      <td>Sea</td>\n",
              "      <td>3.488</td>\n",
              "      <td>5688.0</td>\n",
              "    </tr>\n",
              "    <tr>\n",
              "      <th>4</th>\n",
              "      <td>1997-01-01</td>\n",
              "      <td>corn</td>\n",
              "      <td>MG</td>\n",
              "      <td>Argentina</td>\n",
              "      <td>Import</td>\n",
              "      <td>Ground</td>\n",
              "      <td>27.000</td>\n",
              "      <td>18630.0</td>\n",
              "    </tr>\n",
              "    <tr>\n",
              "      <th>...</th>\n",
              "      <td>...</td>\n",
              "      <td>...</td>\n",
              "      <td>...</td>\n",
              "      <td>...</td>\n",
              "      <td>...</td>\n",
              "      <td>...</td>\n",
              "      <td>...</td>\n",
              "      <td>...</td>\n",
              "    </tr>\n",
              "    <tr>\n",
              "      <th>117960</th>\n",
              "      <td>2019-12-01</td>\n",
              "      <td>wheat</td>\n",
              "      <td>SP</td>\n",
              "      <td>Argentina</td>\n",
              "      <td>Import</td>\n",
              "      <td>Sea</td>\n",
              "      <td>87124.765</td>\n",
              "      <td>17897516.0</td>\n",
              "    </tr>\n",
              "    <tr>\n",
              "      <th>117961</th>\n",
              "      <td>2019-12-01</td>\n",
              "      <td>wheat</td>\n",
              "      <td>SP</td>\n",
              "      <td>Ireland</td>\n",
              "      <td>Export</td>\n",
              "      <td>Sea</td>\n",
              "      <td>0.500</td>\n",
              "      <td>477.0</td>\n",
              "    </tr>\n",
              "    <tr>\n",
              "      <th>117962</th>\n",
              "      <td>2019-12-01</td>\n",
              "      <td>wheat</td>\n",
              "      <td>SP</td>\n",
              "      <td>Lebanon</td>\n",
              "      <td>Import</td>\n",
              "      <td>Sea</td>\n",
              "      <td>5.769</td>\n",
              "      <td>6726.0</td>\n",
              "    </tr>\n",
              "    <tr>\n",
              "      <th>117963</th>\n",
              "      <td>2019-12-01</td>\n",
              "      <td>wheat</td>\n",
              "      <td>SP</td>\n",
              "      <td>Liberia</td>\n",
              "      <td>Export</td>\n",
              "      <td>Other</td>\n",
              "      <td>0.025</td>\n",
              "      <td>50.0</td>\n",
              "    </tr>\n",
              "    <tr>\n",
              "      <th>117964</th>\n",
              "      <td>2019-12-01</td>\n",
              "      <td>wheat</td>\n",
              "      <td>SP</td>\n",
              "      <td>Marshall Islands</td>\n",
              "      <td>Export</td>\n",
              "      <td>Other</td>\n",
              "      <td>0.010</td>\n",
              "      <td>85.0</td>\n",
              "    </tr>\n",
              "  </tbody>\n",
              "</table>\n",
              "<p>117965 rows × 8 columns</p>\n",
              "</div>"
            ],
            "text/plain": [
              "             date product state  ...   route       tons         usd\n",
              "0      1997-01-01    corn    ES  ...     Sea     44.045    113029.0\n",
              "1      1997-01-01    corn    GO  ...  Ground     54.000     36720.0\n",
              "2      1997-01-01    corn    GO  ...  Ground      0.200       180.0\n",
              "3      1997-01-01    corn    GO  ...     Sea      3.488      5688.0\n",
              "4      1997-01-01    corn    MG  ...  Ground     27.000     18630.0\n",
              "...           ...     ...   ...  ...     ...        ...         ...\n",
              "117960 2019-12-01   wheat    SP  ...     Sea  87124.765  17897516.0\n",
              "117961 2019-12-01   wheat    SP  ...     Sea      0.500       477.0\n",
              "117962 2019-12-01   wheat    SP  ...     Sea      5.769      6726.0\n",
              "117963 2019-12-01   wheat    SP  ...   Other      0.025        50.0\n",
              "117964 2019-12-01   wheat    SP  ...   Other      0.010        85.0\n",
              "\n",
              "[117965 rows x 8 columns]"
            ]
          },
          "metadata": {
            "tags": []
          },
          "execution_count": 2
        }
      ]
    },
    {
      "cell_type": "markdown",
      "metadata": {
        "id": "MIsx2yxo23ws",
        "colab_type": "text"
      },
      "source": [
        "## Show the evolution of total monthly and total annual exports from Brazil (all states and to everywhere) of ‘soybeans’, ‘soybean oil’ and ‘soybean meal’"
      ]
    },
    {
      "cell_type": "code",
      "metadata": {
        "id": "Pl1x_hZo23wt",
        "colab_type": "code",
        "colab": {
          "base_uri": "https://localhost:8080/",
          "height": 204
        },
        "outputId": "f25ce79f-b04f-41b8-9820-8408d04d66d9"
      },
      "source": [
        "export = data[data[\"type\"] == \"Export\"]\n",
        "df_import =  data[data[\"type\"] == \"Import\"]\n",
        "export.head()"
      ],
      "execution_count": 3,
      "outputs": [
        {
          "output_type": "execute_result",
          "data": {
            "text/html": [
              "<div>\n",
              "<style scoped>\n",
              "    .dataframe tbody tr th:only-of-type {\n",
              "        vertical-align: middle;\n",
              "    }\n",
              "\n",
              "    .dataframe tbody tr th {\n",
              "        vertical-align: top;\n",
              "    }\n",
              "\n",
              "    .dataframe thead th {\n",
              "        text-align: right;\n",
              "    }\n",
              "</style>\n",
              "<table border=\"1\" class=\"dataframe\">\n",
              "  <thead>\n",
              "    <tr style=\"text-align: right;\">\n",
              "      <th></th>\n",
              "      <th>date</th>\n",
              "      <th>product</th>\n",
              "      <th>state</th>\n",
              "      <th>country</th>\n",
              "      <th>type</th>\n",
              "      <th>route</th>\n",
              "      <th>tons</th>\n",
              "      <th>usd</th>\n",
              "    </tr>\n",
              "  </thead>\n",
              "  <tbody>\n",
              "    <tr>\n",
              "      <th>2</th>\n",
              "      <td>1997-01-01</td>\n",
              "      <td>corn</td>\n",
              "      <td>GO</td>\n",
              "      <td>Bolivia</td>\n",
              "      <td>Export</td>\n",
              "      <td>Ground</td>\n",
              "      <td>0.200</td>\n",
              "      <td>180.0</td>\n",
              "    </tr>\n",
              "    <tr>\n",
              "      <th>3</th>\n",
              "      <td>1997-01-01</td>\n",
              "      <td>corn</td>\n",
              "      <td>GO</td>\n",
              "      <td>United States</td>\n",
              "      <td>Export</td>\n",
              "      <td>Sea</td>\n",
              "      <td>3.488</td>\n",
              "      <td>5688.0</td>\n",
              "    </tr>\n",
              "    <tr>\n",
              "      <th>5</th>\n",
              "      <td>1997-01-01</td>\n",
              "      <td>corn</td>\n",
              "      <td>MS</td>\n",
              "      <td>Paraguay</td>\n",
              "      <td>Export</td>\n",
              "      <td>Ground</td>\n",
              "      <td>40.000</td>\n",
              "      <td>38700.0</td>\n",
              "    </tr>\n",
              "    <tr>\n",
              "      <th>9</th>\n",
              "      <td>1997-01-01</td>\n",
              "      <td>corn</td>\n",
              "      <td>PR</td>\n",
              "      <td>Netherlands</td>\n",
              "      <td>Export</td>\n",
              "      <td>Sea</td>\n",
              "      <td>170000.000</td>\n",
              "      <td>20000000.0</td>\n",
              "    </tr>\n",
              "    <tr>\n",
              "      <th>10</th>\n",
              "      <td>1997-01-01</td>\n",
              "      <td>corn</td>\n",
              "      <td>PR</td>\n",
              "      <td>Paraguay</td>\n",
              "      <td>Export</td>\n",
              "      <td>Ground</td>\n",
              "      <td>258.300</td>\n",
              "      <td>386733.0</td>\n",
              "    </tr>\n",
              "  </tbody>\n",
              "</table>\n",
              "</div>"
            ],
            "text/plain": [
              "         date product state  ...   route        tons         usd\n",
              "2  1997-01-01    corn    GO  ...  Ground       0.200       180.0\n",
              "3  1997-01-01    corn    GO  ...     Sea       3.488      5688.0\n",
              "5  1997-01-01    corn    MS  ...  Ground      40.000     38700.0\n",
              "9  1997-01-01    corn    PR  ...     Sea  170000.000  20000000.0\n",
              "10 1997-01-01    corn    PR  ...  Ground     258.300    386733.0\n",
              "\n",
              "[5 rows x 8 columns]"
            ]
          },
          "metadata": {
            "tags": []
          },
          "execution_count": 3
        }
      ]
    },
    {
      "cell_type": "code",
      "metadata": {
        "id": "EkNtaZ6_H5Db",
        "colab_type": "code",
        "colab": {}
      },
      "source": [
        "soybean_oil = data[data[\"product\"] == \"soybean_oil\"][['date', 'usd']]\n",
        "soybean = data[data[\"product\"] == \"soybeans\"][['date', 'usd']]\n",
        "soybean_meal = data[data[\"product\"] == \"soybean_meal\"][['date', 'usd']]\n",
        "\n",
        "soybean_oil = soybean_oil.groupby(\"date\").sum()\n",
        "soybean = soybean.groupby(\"date\").sum()\n",
        "soybean_meal = soybean_meal.groupby(\"date\").sum()"
      ],
      "execution_count": 4,
      "outputs": []
    },
    {
      "cell_type": "code",
      "metadata": {
        "id": "4ahTHP9CIuQP",
        "colab_type": "code",
        "colab": {
          "base_uri": "https://localhost:8080/",
          "height": 450
        },
        "outputId": "dfaa5f11-f23c-4aaa-c04e-f549f571fcd0"
      },
      "source": [
        "soybean_oil"
      ],
      "execution_count": 5,
      "outputs": [
        {
          "output_type": "execute_result",
          "data": {
            "text/html": [
              "<div>\n",
              "<style scoped>\n",
              "    .dataframe tbody tr th:only-of-type {\n",
              "        vertical-align: middle;\n",
              "    }\n",
              "\n",
              "    .dataframe tbody tr th {\n",
              "        vertical-align: top;\n",
              "    }\n",
              "\n",
              "    .dataframe thead th {\n",
              "        text-align: right;\n",
              "    }\n",
              "</style>\n",
              "<table border=\"1\" class=\"dataframe\">\n",
              "  <thead>\n",
              "    <tr style=\"text-align: right;\">\n",
              "      <th></th>\n",
              "      <th>usd</th>\n",
              "    </tr>\n",
              "    <tr>\n",
              "      <th>date</th>\n",
              "      <th></th>\n",
              "    </tr>\n",
              "  </thead>\n",
              "  <tbody>\n",
              "    <tr>\n",
              "      <th>1997-01-01</th>\n",
              "      <td>41311398.0</td>\n",
              "    </tr>\n",
              "    <tr>\n",
              "      <th>1997-02-01</th>\n",
              "      <td>24131677.0</td>\n",
              "    </tr>\n",
              "    <tr>\n",
              "      <th>1997-03-01</th>\n",
              "      <td>15176561.0</td>\n",
              "    </tr>\n",
              "    <tr>\n",
              "      <th>1997-04-01</th>\n",
              "      <td>86514805.0</td>\n",
              "    </tr>\n",
              "    <tr>\n",
              "      <th>1997-05-01</th>\n",
              "      <td>85257501.0</td>\n",
              "    </tr>\n",
              "    <tr>\n",
              "      <th>...</th>\n",
              "      <td>...</td>\n",
              "    </tr>\n",
              "    <tr>\n",
              "      <th>2019-08-01</th>\n",
              "      <td>72200383.0</td>\n",
              "    </tr>\n",
              "    <tr>\n",
              "      <th>2019-09-01</th>\n",
              "      <td>54187441.0</td>\n",
              "    </tr>\n",
              "    <tr>\n",
              "      <th>2019-10-01</th>\n",
              "      <td>52866255.0</td>\n",
              "    </tr>\n",
              "    <tr>\n",
              "      <th>2019-11-01</th>\n",
              "      <td>18143152.0</td>\n",
              "    </tr>\n",
              "    <tr>\n",
              "      <th>2019-12-01</th>\n",
              "      <td>42229673.0</td>\n",
              "    </tr>\n",
              "  </tbody>\n",
              "</table>\n",
              "<p>276 rows × 1 columns</p>\n",
              "</div>"
            ],
            "text/plain": [
              "                   usd\n",
              "date                  \n",
              "1997-01-01  41311398.0\n",
              "1997-02-01  24131677.0\n",
              "1997-03-01  15176561.0\n",
              "1997-04-01  86514805.0\n",
              "1997-05-01  85257501.0\n",
              "...                ...\n",
              "2019-08-01  72200383.0\n",
              "2019-09-01  54187441.0\n",
              "2019-10-01  52866255.0\n",
              "2019-11-01  18143152.0\n",
              "2019-12-01  42229673.0\n",
              "\n",
              "[276 rows x 1 columns]"
            ]
          },
          "metadata": {
            "tags": []
          },
          "execution_count": 5
        }
      ]
    },
    {
      "cell_type": "markdown",
      "metadata": {
        "id": "tQMsvY_8KBhT",
        "colab_type": "text"
      },
      "source": [
        "### Total Monthly"
      ]
    },
    {
      "cell_type": "code",
      "metadata": {
        "id": "V2nhnAh0J1zw",
        "colab_type": "code",
        "colab": {
          "base_uri": "https://localhost:8080/",
          "height": 350
        },
        "outputId": "ef6f0686-542c-487c-d898-23aa8e1dacf4"
      },
      "source": [
        "fig, axes = plt.subplots(nrows=1, ncols=3, figsize=BIG_FIG)\n",
        "soybean.plot(title=\"Monthly Soybean Exportation\", logy=True, ax=axes[0])\n",
        "\n",
        "\n",
        "soybean_oil.plot(title=\"Monthly Soybean Oil Exportation\", logy=True, ax=axes[1])\n",
        "\n",
        "\n",
        "soybean_meal.plot(title=\"Monthly Soybean Meal Exportation\", logy=True,ax=axes[2])\n",
        "plt.show()"
      ],
      "execution_count": 6,
      "outputs": [
        {
          "output_type": "display_data",
          "data": {
            "image/png": "[encoded data removed]",
            "text/plain": [
              "<Figure size 1080x360 with 3 Axes>"
            ]
          },
          "metadata": {
            "tags": [],
            "needs_background": "light"
          }
        }
      ]
    },
    {
      "cell_type": "markdown",
      "metadata": {
        "id": "juiDB4AXKuIr",
        "colab_type": "text"
      },
      "source": [
        "### Annually"
      ]
    },
    {
      "cell_type": "code",
      "metadata": {
        "id": "IffZZ-lQKw9D",
        "colab_type": "code",
        "colab": {}
      },
      "source": [
        "def create_features(df):\n",
        "    \"\"\"\n",
        "    Creates time series features from datetime index\n",
        "    \"\"\"\n",
        "    df['date'] = df.index\n",
        "    df['year'] = df['date'].dt.year\n",
        "    \n",
        "    X = df[['year', 'usd']]  \n",
        "    return X"
      ],
      "execution_count": 7,
      "outputs": []
    },
    {
      "cell_type": "code",
      "metadata": {
        "id": "RHeiwSrwLeQh",
        "colab_type": "code",
        "colab": {}
      },
      "source": [
        "soybean_year = create_features(soybean)\n",
        "soybean_meal_year = create_features(soybean_meal)\n",
        "soybean_oil_year = create_features(soybean_oil)"
      ],
      "execution_count": 8,
      "outputs": []
    },
    {
      "cell_type": "code",
      "metadata": {
        "id": "Yg7bNZbqLVDb",
        "colab_type": "code",
        "colab": {}
      },
      "source": [
        "soybean_oil_year = soybean_oil_year.groupby(\"year\").sum()\n",
        "soybean_year = soybean_year.groupby(\"year\").sum()\n",
        "soybean_meal_year = soybean_meal_year.groupby(\"year\").sum()"
      ],
      "execution_count": 9,
      "outputs": []
    },
    {
      "cell_type": "code",
      "metadata": {
        "id": "4oUg_VukMS2a",
        "colab_type": "code",
        "colab": {
          "base_uri": "https://localhost:8080/",
          "height": 350
        },
        "outputId": "64c93bff-c357-41ab-a4ed-dab0b44dbf46"
      },
      "source": [
        "fig, axes = plt.subplots(nrows=1, ncols=3, figsize=BIG_FIG)\n",
        "\n",
        "soybean_year.plot(title=\"Annually Soybean Exportation\", ax=axes[0])\n",
        "\n",
        "\n",
        "soybean_oil_year.plot(title=\"Annually Soybean Oil Exportation\", ax=axes[1])\n",
        "\n",
        "\n",
        "soybean_meal_year.plot(title=\"Annually Soybean Meal Exportation\", ax=axes[2])\n",
        "plt.show()"
      ],
      "execution_count": 10,
      "outputs": [
        {
          "output_type": "display_data",
          "data": {
            "image/png": "[encoded data removed]",
            "text/plain": [
              "<Figure size 1080x360 with 3 Axes>"
            ]
          },
          "metadata": {
            "tags": [],
            "needs_background": "light"
          }
        }
      ]
    },
    {
      "cell_type": "markdown",
      "metadata": {
        "id": "4F68hyy-23ww",
        "colab_type": "text"
      },
      "source": [
        "## Brazil's three most exported products (in usd terms)"
      ]
    },
    {
      "cell_type": "code",
      "metadata": {
        "id": "ezSOmQhc23w3",
        "colab_type": "code",
        "colab": {}
      },
      "source": [
        "export.drop(columns=[\"state\", \"country\", \"type\", \"route\"], inplace=True)"
      ],
      "execution_count": 11,
      "outputs": []
    },
    {
      "cell_type": "code",
      "metadata": {
        "id": "BE8TXkb423w7",
        "colab_type": "code",
        "colab": {
          "base_uri": "https://localhost:8080/",
          "height": 266
        },
        "outputId": "433d4bd5-4d7c-4849-dbd9-94b67c6b3926"
      },
      "source": [
        "products = export.groupby(\"product\").sum()\n",
        "products"
      ],
      "execution_count": 12,
      "outputs": [
        {
          "output_type": "execute_result",
          "data": {
            "text/html": [
              "<div>\n",
              "<style scoped>\n",
              "    .dataframe tbody tr th:only-of-type {\n",
              "        vertical-align: middle;\n",
              "    }\n",
              "\n",
              "    .dataframe tbody tr th {\n",
              "        vertical-align: top;\n",
              "    }\n",
              "\n",
              "    .dataframe thead th {\n",
              "        text-align: right;\n",
              "    }\n",
              "</style>\n",
              "<table border=\"1\" class=\"dataframe\">\n",
              "  <thead>\n",
              "    <tr style=\"text-align: right;\">\n",
              "      <th></th>\n",
              "      <th>tons</th>\n",
              "      <th>usd</th>\n",
              "    </tr>\n",
              "    <tr>\n",
              "      <th>product</th>\n",
              "      <th></th>\n",
              "      <th></th>\n",
              "    </tr>\n",
              "  </thead>\n",
              "  <tbody>\n",
              "    <tr>\n",
              "      <th>corn</th>\n",
              "      <td>2.789230e+08</td>\n",
              "      <td>5.196579e+10</td>\n",
              "    </tr>\n",
              "    <tr>\n",
              "      <th>soybean_meal</th>\n",
              "      <td>2.978233e+08</td>\n",
              "      <td>9.335736e+10</td>\n",
              "    </tr>\n",
              "    <tr>\n",
              "      <th>soybean_oil</th>\n",
              "      <td>3.899132e+07</td>\n",
              "      <td>2.708342e+10</td>\n",
              "    </tr>\n",
              "    <tr>\n",
              "      <th>soybeans</th>\n",
              "      <td>7.339587e+08</td>\n",
              "      <td>2.762390e+11</td>\n",
              "    </tr>\n",
              "    <tr>\n",
              "      <th>sugar</th>\n",
              "      <td>2.719595e+08</td>\n",
              "      <td>9.806823e+10</td>\n",
              "    </tr>\n",
              "    <tr>\n",
              "      <th>wheat</th>\n",
              "      <td>7.652557e+06</td>\n",
              "      <td>1.767894e+09</td>\n",
              "    </tr>\n",
              "  </tbody>\n",
              "</table>\n",
              "</div>"
            ],
            "text/plain": [
              "                      tons           usd\n",
              "product                                 \n",
              "corn          2.789230e+08  5.196579e+10\n",
              "soybean_meal  2.978233e+08  9.335736e+10\n",
              "soybean_oil   3.899132e+07  2.708342e+10\n",
              "soybeans      7.339587e+08  2.762390e+11\n",
              "sugar         2.719595e+08  9.806823e+10\n",
              "wheat         7.652557e+06  1.767894e+09"
            ]
          },
          "metadata": {
            "tags": []
          },
          "execution_count": 12
        }
      ]
    },
    {
      "cell_type": "code",
      "metadata": {
        "id": "8GsP9Noo23w_",
        "colab_type": "code",
        "colab": {
          "base_uri": "https://localhost:8080/",
          "height": 173
        },
        "outputId": "926e37c4-620d-4e9a-db06-1cb0016e3af5"
      },
      "source": [
        "big3 = products.nlargest(3, columns=[\"usd\"], keep=\"all\")\n",
        "big3"
      ],
      "execution_count": 13,
      "outputs": [
        {
          "output_type": "execute_result",
          "data": {
            "text/html": [
              "<div>\n",
              "<style scoped>\n",
              "    .dataframe tbody tr th:only-of-type {\n",
              "        vertical-align: middle;\n",
              "    }\n",
              "\n",
              "    .dataframe tbody tr th {\n",
              "        vertical-align: top;\n",
              "    }\n",
              "\n",
              "    .dataframe thead th {\n",
              "        text-align: right;\n",
              "    }\n",
              "</style>\n",
              "<table border=\"1\" class=\"dataframe\">\n",
              "  <thead>\n",
              "    <tr style=\"text-align: right;\">\n",
              "      <th></th>\n",
              "      <th>tons</th>\n",
              "      <th>usd</th>\n",
              "    </tr>\n",
              "    <tr>\n",
              "      <th>product</th>\n",
              "      <th></th>\n",
              "      <th></th>\n",
              "    </tr>\n",
              "  </thead>\n",
              "  <tbody>\n",
              "    <tr>\n",
              "      <th>soybeans</th>\n",
              "      <td>7.339587e+08</td>\n",
              "      <td>2.762390e+11</td>\n",
              "    </tr>\n",
              "    <tr>\n",
              "      <th>sugar</th>\n",
              "      <td>2.719595e+08</td>\n",
              "      <td>9.806823e+10</td>\n",
              "    </tr>\n",
              "    <tr>\n",
              "      <th>soybean_meal</th>\n",
              "      <td>2.978233e+08</td>\n",
              "      <td>9.335736e+10</td>\n",
              "    </tr>\n",
              "  </tbody>\n",
              "</table>\n",
              "</div>"
            ],
            "text/plain": [
              "                      tons           usd\n",
              "product                                 \n",
              "soybeans      7.339587e+08  2.762390e+11\n",
              "sugar         2.719595e+08  9.806823e+10\n",
              "soybean_meal  2.978233e+08  9.335736e+10"
            ]
          },
          "metadata": {
            "tags": []
          },
          "execution_count": 13
        }
      ]
    },
    {
      "cell_type": "code",
      "metadata": {
        "id": "Sm976b5s23xF",
        "colab_type": "code",
        "colab": {
          "base_uri": "https://localhost:8080/",
          "height": 338
        },
        "outputId": "fd79a55d-9c87-4af2-9bdd-149e8e4422dd"
      },
      "source": [
        "\n",
        "plt.show()\n",
        "plt.bar(big3.index, big3.usd, width = 0.25, label=\"usd\")\n",
        "plt.xticks(rotation=90)\n",
        "plt.legend(loc='best')\n",
        "plt.show()"
      ],
      "execution_count": 14,
      "outputs": [
        {
          "output_type": "display_data",
          "data": {
            "image/png": "[encoded data removed]",
            "text/plain": [
              "<Figure size 432x288 with 1 Axes>"
            ]
          },
          "metadata": {
            "tags": [],
            "needs_background": "light"
          }
        }
      ]
    },
    {
      "cell_type": "markdown",
      "metadata": {
        "id": "fhlS9GVe23xL",
        "colab_type": "text"
      },
      "source": [
        "## Main routes through which Brazil have been exporting ‘corn’ in the last few years (After 2017)"
      ]
    },
    {
      "cell_type": "code",
      "metadata": {
        "id": "a7GXYh7m23xM",
        "colab_type": "code",
        "colab": {
          "base_uri": "https://localhost:8080/",
          "height": 419
        },
        "outputId": "018842ac-adb7-4b0d-a37b-84380be8b0f6"
      },
      "source": [
        "export = data[data[\"type\"] == \"Export\"]\n",
        "corn = export[export[\"product\"] == \"corn\"]\n",
        "corn"
      ],
      "execution_count": 15,
      "outputs": [
        {
          "output_type": "execute_result",
          "data": {
            "text/html": [
              "<div>\n",
              "<style scoped>\n",
              "    .dataframe tbody tr th:only-of-type {\n",
              "        vertical-align: middle;\n",
              "    }\n",
              "\n",
              "    .dataframe tbody tr th {\n",
              "        vertical-align: top;\n",
              "    }\n",
              "\n",
              "    .dataframe thead th {\n",
              "        text-align: right;\n",
              "    }\n",
              "</style>\n",
              "<table border=\"1\" class=\"dataframe\">\n",
              "  <thead>\n",
              "    <tr style=\"text-align: right;\">\n",
              "      <th></th>\n",
              "      <th>date</th>\n",
              "      <th>product</th>\n",
              "      <th>state</th>\n",
              "      <th>country</th>\n",
              "      <th>type</th>\n",
              "      <th>route</th>\n",
              "      <th>tons</th>\n",
              "      <th>usd</th>\n",
              "    </tr>\n",
              "  </thead>\n",
              "  <tbody>\n",
              "    <tr>\n",
              "      <th>2</th>\n",
              "      <td>1997-01-01</td>\n",
              "      <td>corn</td>\n",
              "      <td>GO</td>\n",
              "      <td>Bolivia</td>\n",
              "      <td>Export</td>\n",
              "      <td>Ground</td>\n",
              "      <td>0.200</td>\n",
              "      <td>180.0</td>\n",
              "    </tr>\n",
              "    <tr>\n",
              "      <th>3</th>\n",
              "      <td>1997-01-01</td>\n",
              "      <td>corn</td>\n",
              "      <td>GO</td>\n",
              "      <td>United States</td>\n",
              "      <td>Export</td>\n",
              "      <td>Sea</td>\n",
              "      <td>3.488</td>\n",
              "      <td>5688.0</td>\n",
              "    </tr>\n",
              "    <tr>\n",
              "      <th>5</th>\n",
              "      <td>1997-01-01</td>\n",
              "      <td>corn</td>\n",
              "      <td>MS</td>\n",
              "      <td>Paraguay</td>\n",
              "      <td>Export</td>\n",
              "      <td>Ground</td>\n",
              "      <td>40.000</td>\n",
              "      <td>38700.0</td>\n",
              "    </tr>\n",
              "    <tr>\n",
              "      <th>9</th>\n",
              "      <td>1997-01-01</td>\n",
              "      <td>corn</td>\n",
              "      <td>PR</td>\n",
              "      <td>Netherlands</td>\n",
              "      <td>Export</td>\n",
              "      <td>Sea</td>\n",
              "      <td>170000.000</td>\n",
              "      <td>20000000.0</td>\n",
              "    </tr>\n",
              "    <tr>\n",
              "      <th>10</th>\n",
              "      <td>1997-01-01</td>\n",
              "      <td>corn</td>\n",
              "      <td>PR</td>\n",
              "      <td>Paraguay</td>\n",
              "      <td>Export</td>\n",
              "      <td>Ground</td>\n",
              "      <td>258.300</td>\n",
              "      <td>386733.0</td>\n",
              "    </tr>\n",
              "    <tr>\n",
              "      <th>...</th>\n",
              "      <td>...</td>\n",
              "      <td>...</td>\n",
              "      <td>...</td>\n",
              "      <td>...</td>\n",
              "      <td>...</td>\n",
              "      <td>...</td>\n",
              "      <td>...</td>\n",
              "      <td>...</td>\n",
              "    </tr>\n",
              "    <tr>\n",
              "      <th>117265</th>\n",
              "      <td>2019-12-01</td>\n",
              "      <td>corn</td>\n",
              "      <td>SP</td>\n",
              "      <td>Vietnam</td>\n",
              "      <td>Export</td>\n",
              "      <td>Sea</td>\n",
              "      <td>2575.793</td>\n",
              "      <td>402284.0</td>\n",
              "    </tr>\n",
              "    <tr>\n",
              "      <th>117266</th>\n",
              "      <td>2019-12-01</td>\n",
              "      <td>corn</td>\n",
              "      <td>TO</td>\n",
              "      <td>Egypt</td>\n",
              "      <td>Export</td>\n",
              "      <td>Sea</td>\n",
              "      <td>27908.815</td>\n",
              "      <td>4433950.0</td>\n",
              "    </tr>\n",
              "    <tr>\n",
              "      <th>117267</th>\n",
              "      <td>2019-12-01</td>\n",
              "      <td>corn</td>\n",
              "      <td>TO</td>\n",
              "      <td>Kuwait</td>\n",
              "      <td>Export</td>\n",
              "      <td>Sea</td>\n",
              "      <td>1293.930</td>\n",
              "      <td>229003.0</td>\n",
              "    </tr>\n",
              "    <tr>\n",
              "      <th>117268</th>\n",
              "      <td>2019-12-01</td>\n",
              "      <td>corn</td>\n",
              "      <td>TO</td>\n",
              "      <td>Philippines</td>\n",
              "      <td>Export</td>\n",
              "      <td>Air</td>\n",
              "      <td>0.007</td>\n",
              "      <td>27.0</td>\n",
              "    </tr>\n",
              "    <tr>\n",
              "      <th>117269</th>\n",
              "      <td>2019-12-01</td>\n",
              "      <td>corn</td>\n",
              "      <td>TO</td>\n",
              "      <td>Spain</td>\n",
              "      <td>Export</td>\n",
              "      <td>Sea</td>\n",
              "      <td>1874.085</td>\n",
              "      <td>283988.0</td>\n",
              "    </tr>\n",
              "  </tbody>\n",
              "</table>\n",
              "<p>17394 rows × 8 columns</p>\n",
              "</div>"
            ],
            "text/plain": [
              "             date product state  ...   route        tons         usd\n",
              "2      1997-01-01    corn    GO  ...  Ground       0.200       180.0\n",
              "3      1997-01-01    corn    GO  ...     Sea       3.488      5688.0\n",
              "5      1997-01-01    corn    MS  ...  Ground      40.000     38700.0\n",
              "9      1997-01-01    corn    PR  ...     Sea  170000.000  20000000.0\n",
              "10     1997-01-01    corn    PR  ...  Ground     258.300    386733.0\n",
              "...           ...     ...   ...  ...     ...         ...         ...\n",
              "117265 2019-12-01    corn    SP  ...     Sea    2575.793    402284.0\n",
              "117266 2019-12-01    corn    TO  ...     Sea   27908.815   4433950.0\n",
              "117267 2019-12-01    corn    TO  ...     Sea    1293.930    229003.0\n",
              "117268 2019-12-01    corn    TO  ...     Air       0.007        27.0\n",
              "117269 2019-12-01    corn    TO  ...     Sea    1874.085    283988.0\n",
              "\n",
              "[17394 rows x 8 columns]"
            ]
          },
          "metadata": {
            "tags": []
          },
          "execution_count": 15
        }
      ]
    },
    {
      "cell_type": "code",
      "metadata": {
        "id": "GmFOOwyk23xR",
        "colab_type": "code",
        "colab": {
          "base_uri": "https://localhost:8080/",
          "height": 419
        },
        "outputId": "b944dece-7d2a-47b9-d8eb-da236ce30bb8"
      },
      "source": [
        "corn = corn[corn[\"date\"] > \"2016-12-30\"]\n",
        "corn"
      ],
      "execution_count": 16,
      "outputs": [
        {
          "output_type": "execute_result",
          "data": {
            "text/html": [
              "<div>\n",
              "<style scoped>\n",
              "    .dataframe tbody tr th:only-of-type {\n",
              "        vertical-align: middle;\n",
              "    }\n",
              "\n",
              "    .dataframe tbody tr th {\n",
              "        vertical-align: top;\n",
              "    }\n",
              "\n",
              "    .dataframe thead th {\n",
              "        text-align: right;\n",
              "    }\n",
              "</style>\n",
              "<table border=\"1\" class=\"dataframe\">\n",
              "  <thead>\n",
              "    <tr style=\"text-align: right;\">\n",
              "      <th></th>\n",
              "      <th>date</th>\n",
              "      <th>product</th>\n",
              "      <th>state</th>\n",
              "      <th>country</th>\n",
              "      <th>type</th>\n",
              "      <th>route</th>\n",
              "      <th>tons</th>\n",
              "      <th>usd</th>\n",
              "    </tr>\n",
              "  </thead>\n",
              "  <tbody>\n",
              "    <tr>\n",
              "      <th>90622</th>\n",
              "      <td>2017-01-01</td>\n",
              "      <td>corn</td>\n",
              "      <td>GO</td>\n",
              "      <td>Dominican Republic</td>\n",
              "      <td>Export</td>\n",
              "      <td>Sea</td>\n",
              "      <td>795.679</td>\n",
              "      <td>147710.0</td>\n",
              "    </tr>\n",
              "    <tr>\n",
              "      <th>90623</th>\n",
              "      <td>2017-01-01</td>\n",
              "      <td>corn</td>\n",
              "      <td>GO</td>\n",
              "      <td>Ecuador</td>\n",
              "      <td>Export</td>\n",
              "      <td>Air</td>\n",
              "      <td>0.122</td>\n",
              "      <td>1504.0</td>\n",
              "    </tr>\n",
              "    <tr>\n",
              "      <th>90624</th>\n",
              "      <td>2017-01-01</td>\n",
              "      <td>corn</td>\n",
              "      <td>GO</td>\n",
              "      <td>Egypt</td>\n",
              "      <td>Export</td>\n",
              "      <td>Sea</td>\n",
              "      <td>199.950</td>\n",
              "      <td>533884.0</td>\n",
              "    </tr>\n",
              "    <tr>\n",
              "      <th>90625</th>\n",
              "      <td>2017-01-01</td>\n",
              "      <td>corn</td>\n",
              "      <td>GO</td>\n",
              "      <td>Iran</td>\n",
              "      <td>Export</td>\n",
              "      <td>Sea</td>\n",
              "      <td>17.680</td>\n",
              "      <td>2791.0</td>\n",
              "    </tr>\n",
              "    <tr>\n",
              "      <th>90626</th>\n",
              "      <td>2017-01-01</td>\n",
              "      <td>corn</td>\n",
              "      <td>GO</td>\n",
              "      <td>Iran</td>\n",
              "      <td>Export</td>\n",
              "      <td>Sea</td>\n",
              "      <td>600.000</td>\n",
              "      <td>85626.0</td>\n",
              "    </tr>\n",
              "    <tr>\n",
              "      <th>...</th>\n",
              "      <td>...</td>\n",
              "      <td>...</td>\n",
              "      <td>...</td>\n",
              "      <td>...</td>\n",
              "      <td>...</td>\n",
              "      <td>...</td>\n",
              "      <td>...</td>\n",
              "      <td>...</td>\n",
              "    </tr>\n",
              "    <tr>\n",
              "      <th>117265</th>\n",
              "      <td>2019-12-01</td>\n",
              "      <td>corn</td>\n",
              "      <td>SP</td>\n",
              "      <td>Vietnam</td>\n",
              "      <td>Export</td>\n",
              "      <td>Sea</td>\n",
              "      <td>2575.793</td>\n",
              "      <td>402284.0</td>\n",
              "    </tr>\n",
              "    <tr>\n",
              "      <th>117266</th>\n",
              "      <td>2019-12-01</td>\n",
              "      <td>corn</td>\n",
              "      <td>TO</td>\n",
              "      <td>Egypt</td>\n",
              "      <td>Export</td>\n",
              "      <td>Sea</td>\n",
              "      <td>27908.815</td>\n",
              "      <td>4433950.0</td>\n",
              "    </tr>\n",
              "    <tr>\n",
              "      <th>117267</th>\n",
              "      <td>2019-12-01</td>\n",
              "      <td>corn</td>\n",
              "      <td>TO</td>\n",
              "      <td>Kuwait</td>\n",
              "      <td>Export</td>\n",
              "      <td>Sea</td>\n",
              "      <td>1293.930</td>\n",
              "      <td>229003.0</td>\n",
              "    </tr>\n",
              "    <tr>\n",
              "      <th>117268</th>\n",
              "      <td>2019-12-01</td>\n",
              "      <td>corn</td>\n",
              "      <td>TO</td>\n",
              "      <td>Philippines</td>\n",
              "      <td>Export</td>\n",
              "      <td>Air</td>\n",
              "      <td>0.007</td>\n",
              "      <td>27.0</td>\n",
              "    </tr>\n",
              "    <tr>\n",
              "      <th>117269</th>\n",
              "      <td>2019-12-01</td>\n",
              "      <td>corn</td>\n",
              "      <td>TO</td>\n",
              "      <td>Spain</td>\n",
              "      <td>Export</td>\n",
              "      <td>Sea</td>\n",
              "      <td>1874.085</td>\n",
              "      <td>283988.0</td>\n",
              "    </tr>\n",
              "  </tbody>\n",
              "</table>\n",
              "<p>4813 rows × 8 columns</p>\n",
              "</div>"
            ],
            "text/plain": [
              "             date product state  ... route       tons        usd\n",
              "90622  2017-01-01    corn    GO  ...   Sea    795.679   147710.0\n",
              "90623  2017-01-01    corn    GO  ...   Air      0.122     1504.0\n",
              "90624  2017-01-01    corn    GO  ...   Sea    199.950   533884.0\n",
              "90625  2017-01-01    corn    GO  ...   Sea     17.680     2791.0\n",
              "90626  2017-01-01    corn    GO  ...   Sea    600.000    85626.0\n",
              "...           ...     ...   ...  ...   ...        ...        ...\n",
              "117265 2019-12-01    corn    SP  ...   Sea   2575.793   402284.0\n",
              "117266 2019-12-01    corn    TO  ...   Sea  27908.815  4433950.0\n",
              "117267 2019-12-01    corn    TO  ...   Sea   1293.930   229003.0\n",
              "117268 2019-12-01    corn    TO  ...   Air      0.007       27.0\n",
              "117269 2019-12-01    corn    TO  ...   Sea   1874.085   283988.0\n",
              "\n",
              "[4813 rows x 8 columns]"
            ]
          },
          "metadata": {
            "tags": []
          },
          "execution_count": 16
        }
      ]
    },
    {
      "cell_type": "code",
      "metadata": {
        "id": "badhdOhD23xY",
        "colab_type": "code",
        "colab": {
          "base_uri": "https://localhost:8080/",
          "height": 235
        },
        "outputId": "3ab257be-fa62-4d76-cb42-dd35ad95dfa3"
      },
      "source": [
        "routes = corn.groupby(\"route\").sum()\n",
        "routes"
      ],
      "execution_count": 17,
      "outputs": [
        {
          "output_type": "execute_result",
          "data": {
            "text/html": [
              "<div>\n",
              "<style scoped>\n",
              "    .dataframe tbody tr th:only-of-type {\n",
              "        vertical-align: middle;\n",
              "    }\n",
              "\n",
              "    .dataframe tbody tr th {\n",
              "        vertical-align: top;\n",
              "    }\n",
              "\n",
              "    .dataframe thead th {\n",
              "        text-align: right;\n",
              "    }\n",
              "</style>\n",
              "<table border=\"1\" class=\"dataframe\">\n",
              "  <thead>\n",
              "    <tr style=\"text-align: right;\">\n",
              "      <th></th>\n",
              "      <th>tons</th>\n",
              "      <th>usd</th>\n",
              "    </tr>\n",
              "    <tr>\n",
              "      <th>route</th>\n",
              "      <th></th>\n",
              "      <th></th>\n",
              "    </tr>\n",
              "  </thead>\n",
              "  <tbody>\n",
              "    <tr>\n",
              "      <th>Air</th>\n",
              "      <td>4.162630e+02</td>\n",
              "      <td>1.880937e+06</td>\n",
              "    </tr>\n",
              "    <tr>\n",
              "      <th>Ground</th>\n",
              "      <td>4.824573e+04</td>\n",
              "      <td>1.130397e+08</td>\n",
              "    </tr>\n",
              "    <tr>\n",
              "      <th>Other</th>\n",
              "      <td>2.624365e+05</td>\n",
              "      <td>4.359135e+07</td>\n",
              "    </tr>\n",
              "    <tr>\n",
              "      <th>River</th>\n",
              "      <td>3.500016e+06</td>\n",
              "      <td>5.654711e+08</td>\n",
              "    </tr>\n",
              "    <tr>\n",
              "      <th>Sea</th>\n",
              "      <td>9.002341e+07</td>\n",
              "      <td>1.498535e+10</td>\n",
              "    </tr>\n",
              "  </tbody>\n",
              "</table>\n",
              "</div>"
            ],
            "text/plain": [
              "                tons           usd\n",
              "route                             \n",
              "Air     4.162630e+02  1.880937e+06\n",
              "Ground  4.824573e+04  1.130397e+08\n",
              "Other   2.624365e+05  4.359135e+07\n",
              "River   3.500016e+06  5.654711e+08\n",
              "Sea     9.002341e+07  1.498535e+10"
            ]
          },
          "metadata": {
            "tags": []
          },
          "execution_count": 17
        }
      ]
    },
    {
      "cell_type": "code",
      "metadata": {
        "id": "AA-QWhKX23xc",
        "colab_type": "code",
        "colab": {
          "base_uri": "https://localhost:8080/",
          "height": 235
        },
        "outputId": "937caf97-4e60-441b-be25-18297ab33c77"
      },
      "source": [
        "routes = routes.sort_values(\"usd\")\n",
        "routes"
      ],
      "execution_count": 18,
      "outputs": [
        {
          "output_type": "execute_result",
          "data": {
            "text/html": [
              "<div>\n",
              "<style scoped>\n",
              "    .dataframe tbody tr th:only-of-type {\n",
              "        vertical-align: middle;\n",
              "    }\n",
              "\n",
              "    .dataframe tbody tr th {\n",
              "        vertical-align: top;\n",
              "    }\n",
              "\n",
              "    .dataframe thead th {\n",
              "        text-align: right;\n",
              "    }\n",
              "</style>\n",
              "<table border=\"1\" class=\"dataframe\">\n",
              "  <thead>\n",
              "    <tr style=\"text-align: right;\">\n",
              "      <th></th>\n",
              "      <th>tons</th>\n",
              "      <th>usd</th>\n",
              "    </tr>\n",
              "    <tr>\n",
              "      <th>route</th>\n",
              "      <th></th>\n",
              "      <th></th>\n",
              "    </tr>\n",
              "  </thead>\n",
              "  <tbody>\n",
              "    <tr>\n",
              "      <th>Air</th>\n",
              "      <td>4.162630e+02</td>\n",
              "      <td>1.880937e+06</td>\n",
              "    </tr>\n",
              "    <tr>\n",
              "      <th>Other</th>\n",
              "      <td>2.624365e+05</td>\n",
              "      <td>4.359135e+07</td>\n",
              "    </tr>\n",
              "    <tr>\n",
              "      <th>Ground</th>\n",
              "      <td>4.824573e+04</td>\n",
              "      <td>1.130397e+08</td>\n",
              "    </tr>\n",
              "    <tr>\n",
              "      <th>River</th>\n",
              "      <td>3.500016e+06</td>\n",
              "      <td>5.654711e+08</td>\n",
              "    </tr>\n",
              "    <tr>\n",
              "      <th>Sea</th>\n",
              "      <td>9.002341e+07</td>\n",
              "      <td>1.498535e+10</td>\n",
              "    </tr>\n",
              "  </tbody>\n",
              "</table>\n",
              "</div>"
            ],
            "text/plain": [
              "                tons           usd\n",
              "route                             \n",
              "Air     4.162630e+02  1.880937e+06\n",
              "Other   2.624365e+05  4.359135e+07\n",
              "Ground  4.824573e+04  1.130397e+08\n",
              "River   3.500016e+06  5.654711e+08\n",
              "Sea     9.002341e+07  1.498535e+10"
            ]
          },
          "metadata": {
            "tags": []
          },
          "execution_count": 18
        }
      ]
    },
    {
      "cell_type": "code",
      "metadata": {
        "id": "SG0LlV1623xf",
        "colab_type": "code",
        "colab": {
          "base_uri": "https://localhost:8080/",
          "height": 306
        },
        "outputId": "e2d07da7-fd99-414a-8857-37a6542f2d00"
      },
      "source": [
        "routes.plot(kind='bar', logy=True)\n",
        "plt.show()"
      ],
      "execution_count": 19,
      "outputs": [
        {
          "output_type": "display_data",
          "data": {
            "image/png": "[encoded data removed]",
            "text/plain": [
              "<Figure size 432x288 with 1 Axes>"
            ]
          },
          "metadata": {
            "tags": [],
            "needs_background": "light"
          }
        }
      ]
    },
    {
      "cell_type": "markdown",
      "metadata": {
        "id": "MqvHOwt-23xi",
        "colab_type": "text"
      },
      "source": [
        "## Are there differences in the relative importance of routes depending on the product?"
      ]
    },
    {
      "cell_type": "code",
      "metadata": {
        "id": "Gymd34Mw23xj",
        "colab_type": "code",
        "colab": {
          "base_uri": "https://localhost:8080/",
          "height": 369
        },
        "outputId": "e0971d78-5799-432b-abec-360b197df331"
      },
      "source": [
        "products = []\n",
        "fig, axes = plt.subplots(nrows=2, ncols=3, figsize=BIG_FIG)\n",
        "\n",
        "for i, product in enumerate(pd.unique(data['product'].values)):\n",
        "    p = data[data[\"product\"] == product]\n",
        "    routes = p.groupby(\"route\").sum()\n",
        "\n",
        "    products.append(routes)\n",
        "    if i >= 3:\n",
        "      j = i - 3\n",
        "    else:\n",
        "      j = i\n",
        "    routes.plot(kind='bar', logy=True, title=product, ax=axes[int(i/3), j])\n",
        "    \n",
        "    #plt.title(product)\n",
        "    \n",
        "fig.tight_layout()\n",
        "plt.show()"
      ],
      "execution_count": 20,
      "outputs": [
        {
          "output_type": "display_data",
          "data": {
            "image/png": "[encoded data removed]",
            "text/plain": [
              "<Figure size 1080x360 with 6 Axes>"
            ]
          },
          "metadata": {
            "tags": [],
            "needs_background": "light"
          }
        }
      ]
    },
    {
      "cell_type": "markdown",
      "metadata": {
        "id": "y15Z_JE023xi",
        "colab_type": "text"
      },
      "source": [
        "USD and tons have the same trend, so we will use only one"
      ]
    },
    {
      "cell_type": "code",
      "metadata": {
        "id": "PR5smVf723xs",
        "colab_type": "code",
        "colab": {
          "base_uri": "https://localhost:8080/",
          "height": 235
        },
        "outputId": "6a44b259-eabc-47d9-972c-fbd728e6391b"
      },
      "source": [
        "serie = []\n",
        "i=0\n",
        "for product in products:\n",
        "    i += 1\n",
        "    values = []\n",
        "    for item in products[0].index:\n",
        "        if item == \"River\" and i == len(products):\n",
        "            values.append(0)\n",
        "        else:\n",
        "            values.append(product.loc[item][\"usd\"])\n",
        "    serie.append(values)\n",
        "\n",
        "\n",
        "routes = pd.DataFrame(serie, columns=products[0].index, index=pd.unique(data['product'].values))\n",
        "routes"
      ],
      "execution_count": 21,
      "outputs": [
        {
          "output_type": "execute_result",
          "data": {
            "text/html": [
              "<div>\n",
              "<style scoped>\n",
              "    .dataframe tbody tr th:only-of-type {\n",
              "        vertical-align: middle;\n",
              "    }\n",
              "\n",
              "    .dataframe tbody tr th {\n",
              "        vertical-align: top;\n",
              "    }\n",
              "\n",
              "    .dataframe thead th {\n",
              "        text-align: right;\n",
              "    }\n",
              "</style>\n",
              "<table border=\"1\" class=\"dataframe\">\n",
              "  <thead>\n",
              "    <tr style=\"text-align: right;\">\n",
              "      <th>route</th>\n",
              "      <th>Air</th>\n",
              "      <th>Ground</th>\n",
              "      <th>Other</th>\n",
              "      <th>River</th>\n",
              "      <th>Sea</th>\n",
              "    </tr>\n",
              "  </thead>\n",
              "  <tbody>\n",
              "    <tr>\n",
              "      <th>corn</th>\n",
              "      <td>22016389.0</td>\n",
              "      <td>2.573138e+09</td>\n",
              "      <td>46651009.0</td>\n",
              "      <td>1.666881e+09</td>\n",
              "      <td>5.061211e+10</td>\n",
              "    </tr>\n",
              "    <tr>\n",
              "      <th>soybean_meal</th>\n",
              "      <td>8442259.0</td>\n",
              "      <td>4.615589e+08</td>\n",
              "      <td>30544649.0</td>\n",
              "      <td>7.182727e+07</td>\n",
              "      <td>9.326658e+10</td>\n",
              "    </tr>\n",
              "    <tr>\n",
              "      <th>soybean_oil</th>\n",
              "      <td>1365993.0</td>\n",
              "      <td>4.868319e+08</td>\n",
              "      <td>102207657.0</td>\n",
              "      <td>2.599700e+07</td>\n",
              "      <td>2.717758e+10</td>\n",
              "    </tr>\n",
              "    <tr>\n",
              "      <th>soybeans</th>\n",
              "      <td>313105.0</td>\n",
              "      <td>2.345389e+09</td>\n",
              "      <td>572221983.0</td>\n",
              "      <td>7.214311e+09</td>\n",
              "      <td>2.686037e+11</td>\n",
              "    </tr>\n",
              "    <tr>\n",
              "      <th>sugar</th>\n",
              "      <td>2471541.0</td>\n",
              "      <td>5.077324e+08</td>\n",
              "      <td>59709007.0</td>\n",
              "      <td>1.039980e+08</td>\n",
              "      <td>9.740790e+10</td>\n",
              "    </tr>\n",
              "    <tr>\n",
              "      <th>wheat</th>\n",
              "      <td>17564.0</td>\n",
              "      <td>8.841966e+08</td>\n",
              "      <td>23055.0</td>\n",
              "      <td>0.000000e+00</td>\n",
              "      <td>1.351858e+10</td>\n",
              "    </tr>\n",
              "  </tbody>\n",
              "</table>\n",
              "</div>"
            ],
            "text/plain": [
              "route                Air        Ground        Other         River           Sea\n",
              "corn          22016389.0  2.573138e+09   46651009.0  1.666881e+09  5.061211e+10\n",
              "soybean_meal   8442259.0  4.615589e+08   30544649.0  7.182727e+07  9.326658e+10\n",
              "soybean_oil    1365993.0  4.868319e+08  102207657.0  2.599700e+07  2.717758e+10\n",
              "soybeans        313105.0  2.345389e+09  572221983.0  7.214311e+09  2.686037e+11\n",
              "sugar          2471541.0  5.077324e+08   59709007.0  1.039980e+08  9.740790e+10\n",
              "wheat            17564.0  8.841966e+08      23055.0  0.000000e+00  1.351858e+10"
            ]
          },
          "metadata": {
            "tags": []
          },
          "execution_count": 21
        }
      ]
    },
    {
      "cell_type": "code",
      "metadata": {
        "id": "6ySJb7MI23xv",
        "colab_type": "code",
        "colab": {
          "base_uri": "https://localhost:8080/",
          "height": 411
        },
        "outputId": "cbdad7db-74be-48f0-a0eb-ac93e11d4526"
      },
      "source": [
        "routes.plot(kind='bar', logy=True, figsize=BIG_FIG, title=\"USD for product by route\")\n",
        "plt.xlabel(\"Product\")\n",
        "plt.legend(loc='upper left', ncol=5)\n",
        "plt.show()"
      ],
      "execution_count": 22,
      "outputs": [
        {
          "output_type": "display_data",
          "data": {
            "image/png": "[encoded data removed]",
            "text/plain": [
              "<Figure size 1080x360 with 1 Axes>"
            ]
          },
          "metadata": {
            "tags": [],
            "needs_background": "light"
          }
        }
      ]
    },
    {
      "cell_type": "markdown",
      "metadata": {
        "id": "jkayDDjD23x4",
        "colab_type": "text"
      },
      "source": [
        "### Characteristics of the transport\n",
        "\n",
        "All the products have as principal route the sea.\n",
        "\n",
        "As a second way of transporting, the ground or river is the choice. "
      ]
    },
    {
      "cell_type": "markdown",
      "metadata": {
        "id": "up_TtXeP23x5",
        "colab_type": "text"
      },
      "source": [
        "## Which countries have been the most important trade partners for Brazil in terms of ‘corn’ and ‘sugar’ in the last 3 years?\n",
        "\n",
        "This question can be more interesting with a separation of the export and import partner"
      ]
    },
    {
      "cell_type": "code",
      "metadata": {
        "id": "LbuxLe7E23x8",
        "colab_type": "code",
        "colab": {}
      },
      "source": [
        "export_corn_partners = export[export['product'] == \"corn\"]\n",
        "export_sugar_partners = export[export['product'] == 'sugar']\n",
        "import_corn_partners = df_import[df_import['product'] == \"corn\"]\n",
        "import_sugar_partners = df_import[df_import['product'] == \"corn\"]"
      ],
      "execution_count": 23,
      "outputs": []
    },
    {
      "cell_type": "code",
      "metadata": {
        "id": "juetjn3423yA",
        "colab_type": "code",
        "colab": {}
      },
      "source": [
        "export_corn_partners = export_corn_partners[export_corn_partners[\"date\"] > \"2016-12-30\"]\n",
        "export_sugar_partners = export_sugar_partners[export_sugar_partners[\"date\"] > \"2016-12-30\"]\n",
        "import_corn_partners = import_corn_partners[import_corn_partners[\"date\"] > \"2016-12-30\"]\n",
        "import_sugar_partners = import_sugar_partners[import_sugar_partners[\"date\"] > \"2016-12-30\"]"
      ],
      "execution_count": 24,
      "outputs": []
    },
    {
      "cell_type": "code",
      "metadata": {
        "id": "jzOkYJfn23yD",
        "colab_type": "code",
        "colab": {
          "base_uri": "https://localhost:8080/",
          "height": 419
        },
        "outputId": "0b300f36-c9ae-4429-aee0-adc76fc36515"
      },
      "source": [
        "import_sugar_partners"
      ],
      "execution_count": 25,
      "outputs": [
        {
          "output_type": "execute_result",
          "data": {
            "text/html": [
              "<div>\n",
              "<style scoped>\n",
              "    .dataframe tbody tr th:only-of-type {\n",
              "        vertical-align: middle;\n",
              "    }\n",
              "\n",
              "    .dataframe tbody tr th {\n",
              "        vertical-align: top;\n",
              "    }\n",
              "\n",
              "    .dataframe thead th {\n",
              "        text-align: right;\n",
              "    }\n",
              "</style>\n",
              "<table border=\"1\" class=\"dataframe\">\n",
              "  <thead>\n",
              "    <tr style=\"text-align: right;\">\n",
              "      <th></th>\n",
              "      <th>date</th>\n",
              "      <th>product</th>\n",
              "      <th>state</th>\n",
              "      <th>country</th>\n",
              "      <th>type</th>\n",
              "      <th>route</th>\n",
              "      <th>tons</th>\n",
              "      <th>usd</th>\n",
              "    </tr>\n",
              "  </thead>\n",
              "  <tbody>\n",
              "    <tr>\n",
              "      <th>90619</th>\n",
              "      <td>2017-01-01</td>\n",
              "      <td>corn</td>\n",
              "      <td>AL</td>\n",
              "      <td>Argentina</td>\n",
              "      <td>Import</td>\n",
              "      <td>Sea</td>\n",
              "      <td>9759.000</td>\n",
              "      <td>1805225.0</td>\n",
              "    </tr>\n",
              "    <tr>\n",
              "      <th>90620</th>\n",
              "      <td>2017-01-01</td>\n",
              "      <td>corn</td>\n",
              "      <td>CE</td>\n",
              "      <td>Argentina</td>\n",
              "      <td>Import</td>\n",
              "      <td>Sea</td>\n",
              "      <td>29933.422</td>\n",
              "      <td>5586005.0</td>\n",
              "    </tr>\n",
              "    <tr>\n",
              "      <th>90621</th>\n",
              "      <td>2017-01-01</td>\n",
              "      <td>corn</td>\n",
              "      <td>GO</td>\n",
              "      <td>Argentina</td>\n",
              "      <td>Import</td>\n",
              "      <td>Ground</td>\n",
              "      <td>5.000</td>\n",
              "      <td>20000.0</td>\n",
              "    </tr>\n",
              "    <tr>\n",
              "      <th>90635</th>\n",
              "      <td>2017-01-01</td>\n",
              "      <td>corn</td>\n",
              "      <td>GO</td>\n",
              "      <td>United States</td>\n",
              "      <td>Import</td>\n",
              "      <td>Sea</td>\n",
              "      <td>19.958</td>\n",
              "      <td>139098.0</td>\n",
              "    </tr>\n",
              "    <tr>\n",
              "      <th>90646</th>\n",
              "      <td>2017-01-01</td>\n",
              "      <td>corn</td>\n",
              "      <td>MS</td>\n",
              "      <td>Paraguay</td>\n",
              "      <td>Import</td>\n",
              "      <td>Ground</td>\n",
              "      <td>3500.000</td>\n",
              "      <td>529050.0</td>\n",
              "    </tr>\n",
              "    <tr>\n",
              "      <th>...</th>\n",
              "      <td>...</td>\n",
              "      <td>...</td>\n",
              "      <td>...</td>\n",
              "      <td>...</td>\n",
              "      <td>...</td>\n",
              "      <td>...</td>\n",
              "      <td>...</td>\n",
              "      <td>...</td>\n",
              "    </tr>\n",
              "    <tr>\n",
              "      <th>117239</th>\n",
              "      <td>2019-12-01</td>\n",
              "      <td>corn</td>\n",
              "      <td>RS</td>\n",
              "      <td>United States</td>\n",
              "      <td>Import</td>\n",
              "      <td>Sea</td>\n",
              "      <td>18.144</td>\n",
              "      <td>195323.0</td>\n",
              "    </tr>\n",
              "    <tr>\n",
              "      <th>117245</th>\n",
              "      <td>2019-12-01</td>\n",
              "      <td>corn</td>\n",
              "      <td>SC</td>\n",
              "      <td>Paraguay</td>\n",
              "      <td>Import</td>\n",
              "      <td>Ground</td>\n",
              "      <td>4750.000</td>\n",
              "      <td>631500.0</td>\n",
              "    </tr>\n",
              "    <tr>\n",
              "      <th>117246</th>\n",
              "      <td>2019-12-01</td>\n",
              "      <td>corn</td>\n",
              "      <td>SC</td>\n",
              "      <td>Paraguay</td>\n",
              "      <td>Import</td>\n",
              "      <td>Ground</td>\n",
              "      <td>7000.000</td>\n",
              "      <td>891000.0</td>\n",
              "    </tr>\n",
              "    <tr>\n",
              "      <th>117247</th>\n",
              "      <td>2019-12-01</td>\n",
              "      <td>corn</td>\n",
              "      <td>SC</td>\n",
              "      <td>Paraguay</td>\n",
              "      <td>Import</td>\n",
              "      <td>Ground</td>\n",
              "      <td>52000.000</td>\n",
              "      <td>6553703.0</td>\n",
              "    </tr>\n",
              "    <tr>\n",
              "      <th>117250</th>\n",
              "      <td>2019-12-01</td>\n",
              "      <td>corn</td>\n",
              "      <td>SP</td>\n",
              "      <td>Belgium</td>\n",
              "      <td>Import</td>\n",
              "      <td>Air</td>\n",
              "      <td>0.000</td>\n",
              "      <td>1.0</td>\n",
              "    </tr>\n",
              "  </tbody>\n",
              "</table>\n",
              "<p>445 rows × 8 columns</p>\n",
              "</div>"
            ],
            "text/plain": [
              "             date product state  ...   route       tons        usd\n",
              "90619  2017-01-01    corn    AL  ...     Sea   9759.000  1805225.0\n",
              "90620  2017-01-01    corn    CE  ...     Sea  29933.422  5586005.0\n",
              "90621  2017-01-01    corn    GO  ...  Ground      5.000    20000.0\n",
              "90635  2017-01-01    corn    GO  ...     Sea     19.958   139098.0\n",
              "90646  2017-01-01    corn    MS  ...  Ground   3500.000   529050.0\n",
              "...           ...     ...   ...  ...     ...        ...        ...\n",
              "117239 2019-12-01    corn    RS  ...     Sea     18.144   195323.0\n",
              "117245 2019-12-01    corn    SC  ...  Ground   4750.000   631500.0\n",
              "117246 2019-12-01    corn    SC  ...  Ground   7000.000   891000.0\n",
              "117247 2019-12-01    corn    SC  ...  Ground  52000.000  6553703.0\n",
              "117250 2019-12-01    corn    SP  ...     Air      0.000        1.0\n",
              "\n",
              "[445 rows x 8 columns]"
            ]
          },
          "metadata": {
            "tags": []
          },
          "execution_count": 25
        }
      ]
    },
    {
      "cell_type": "code",
      "metadata": {
        "id": "RQ3c-GOj23yI",
        "colab_type": "code",
        "colab": {}
      },
      "source": [
        "export_corn_partners = export_corn_partners.groupby(\"country\").sum().nlargest(3, columns=[\"usd\"], keep=\"all\")\n",
        "export_sugar_partners = export_sugar_partners.groupby(\"country\").sum().nlargest(3, columns=[\"usd\"], keep=\"all\")\n",
        "import_corn_partners = import_corn_partners.groupby(\"country\").sum().nlargest(3, columns=[\"usd\"], keep=\"all\")\n",
        "import_sugar_partners = import_sugar_partners.groupby(\"country\").sum().nlargest(3, columns=[\"usd\"], keep=\"all\")"
      ],
      "execution_count": 26,
      "outputs": []
    },
    {
      "cell_type": "code",
      "metadata": {
        "id": "Ge_TSPSf23yM",
        "colab_type": "code",
        "colab": {
          "base_uri": "https://localhost:8080/",
          "height": 173
        },
        "outputId": "9d1e5bcb-1bec-40bf-9818-d06c2b689e9f"
      },
      "source": [
        "import_corn_partners"
      ],
      "execution_count": 27,
      "outputs": [
        {
          "output_type": "execute_result",
          "data": {
            "text/html": [
              "<div>\n",
              "<style scoped>\n",
              "    .dataframe tbody tr th:only-of-type {\n",
              "        vertical-align: middle;\n",
              "    }\n",
              "\n",
              "    .dataframe tbody tr th {\n",
              "        vertical-align: top;\n",
              "    }\n",
              "\n",
              "    .dataframe thead th {\n",
              "        text-align: right;\n",
              "    }\n",
              "</style>\n",
              "<table border=\"1\" class=\"dataframe\">\n",
              "  <thead>\n",
              "    <tr style=\"text-align: right;\">\n",
              "      <th></th>\n",
              "      <th>tons</th>\n",
              "      <th>usd</th>\n",
              "    </tr>\n",
              "    <tr>\n",
              "      <th>country</th>\n",
              "      <th></th>\n",
              "      <th></th>\n",
              "    </tr>\n",
              "  </thead>\n",
              "  <tbody>\n",
              "    <tr>\n",
              "      <th>Paraguay</th>\n",
              "      <td>2842287.275</td>\n",
              "      <td>374158249.0</td>\n",
              "    </tr>\n",
              "    <tr>\n",
              "      <th>Argentina</th>\n",
              "      <td>819267.684</td>\n",
              "      <td>154907150.0</td>\n",
              "    </tr>\n",
              "    <tr>\n",
              "      <th>United States</th>\n",
              "      <td>2221.313</td>\n",
              "      <td>20830122.0</td>\n",
              "    </tr>\n",
              "  </tbody>\n",
              "</table>\n",
              "</div>"
            ],
            "text/plain": [
              "                      tons          usd\n",
              "country                                \n",
              "Paraguay       2842287.275  374158249.0\n",
              "Argentina       819267.684  154907150.0\n",
              "United States     2221.313   20830122.0"
            ]
          },
          "metadata": {
            "tags": []
          },
          "execution_count": 27
        }
      ]
    },
    {
      "cell_type": "code",
      "metadata": {
        "id": "4leco6Ud23yQ",
        "colab_type": "code",
        "colab": {
          "base_uri": "https://localhost:8080/",
          "height": 585
        },
        "outputId": "b8bb97f3-aab3-4159-bf83-b04515839b9c"
      },
      "source": [
        "fig, axes = plt.subplots(nrows=2, ncols=2, figsize=(15, 8))\n",
        "\n",
        "export_corn_partners.plot(kind=\"bar\", logy=True, title = \"Brazil´s Corn Biggest Buyers\", ax=axes[0,0])\n",
        "\n",
        "\n",
        "export_sugar_partners.plot(kind=\"bar\", logy=True, title = \"Brazil´s Sugar Biggest Buyers\", ax=axes[0,1])\n",
        "\n",
        "\n",
        "import_corn_partners.plot(kind=\"bar\", logy=True, title = \"Brazil´s Corn Biggest Sellers\", ax=axes[1,0])\n",
        "\n",
        "\n",
        "import_sugar_partners.plot(kind=\"bar\", logy=True, title = \"Brazil´s Sugar Biggest Sellers\", ax=axes[1,1])\n",
        "\n",
        "fig.tight_layout()\n",
        "plt.show()\n"
      ],
      "execution_count": 28,
      "outputs": [
        {
          "output_type": "display_data",
          "data": {
            "image/png": "[encoded data removed]",
            "text/plain": [
              "<Figure size 1080x576 with 4 Axes>"
            ]
          },
          "metadata": {
            "tags": [],
            "needs_background": "light"
          }
        }
      ]
    },
    {
      "cell_type": "code",
      "metadata": {
        "id": "h6RcLPVj23yU",
        "colab_type": "code",
        "colab": {}
      },
      "source": [
        "def answ(countries, element):\n",
        "  print(f\"The biggest {element} are:\")\n",
        "  for i, country in enumerate(countries):\n",
        "    print(f\"{i+1} - {country}\")\n",
        "  print()"
      ],
      "execution_count": 29,
      "outputs": []
    },
    {
      "cell_type": "code",
      "metadata": {
        "id": "4zKXs_BFpPU4",
        "colab_type": "code",
        "colab": {
          "base_uri": "https://localhost:8080/",
          "height": 357
        },
        "outputId": "8814399c-849d-44e9-84cd-9a637dd89c34"
      },
      "source": [
        "answ(export_corn_partners.index, \"Corn Buyers\")\n",
        "answ(import_corn_partners.index, \"Corn Sellers\")\n",
        "answ(export_sugar_partners.index, \"Sugar Buyers\")\n",
        "answ(import_sugar_partners.index, \"Sugar Sellers\")"
      ],
      "execution_count": 30,
      "outputs": [
        {
          "output_type": "stream",
          "text": [
            "The biggest Corn Buyers are:\n",
            "1 - Iran\n",
            "2 - Japan\n",
            "3 - Vietnam\n",
            "\n",
            "The biggest Corn Sellers are:\n",
            "1 - Paraguay\n",
            "2 - Argentina\n",
            "3 - United States\n",
            "\n",
            "The biggest Sugar Buyers are:\n",
            "1 - Algeria\n",
            "2 - Bangladesh\n",
            "3 - India\n",
            "\n",
            "The biggest Sugar Sellers are:\n",
            "1 - Paraguay\n",
            "2 - Argentina\n",
            "3 - United States\n",
            "\n"
          ],
          "name": "stdout"
        }
      ]
    },
    {
      "cell_type": "markdown",
      "metadata": {
        "id": "03CySpqg23yf",
        "colab_type": "text"
      },
      "source": [
        "## For each of the products in the dataset, show the 5 most important states in terms of exports"
      ]
    },
    {
      "cell_type": "code",
      "metadata": {
        "id": "SfPHnHLZ23yf",
        "colab_type": "code",
        "colab": {
          "base_uri": "https://localhost:8080/",
          "height": 585
        },
        "outputId": "e7cd416c-ff03-42e7-8aa3-bda452f0a4fa"
      },
      "source": [
        "products = []\n",
        "fig, axes = plt.subplots(nrows=2, ncols=3, figsize=(15, 8))\n",
        "\n",
        "for i, product in enumerate(pd.unique(export['product'].values)):\n",
        "    p = export[export[\"product\"] == product].drop(\"tons\", axis=1)\n",
        "    routes = p.groupby(\"state\").sum().nlargest(5, columns=[\"usd\"], keep=\"all\")\n",
        "\n",
        "    products.append(routes)\n",
        "    if i >= 3:\n",
        "      j = i - 3\n",
        "    else:\n",
        "      j = i\n",
        "    routes.plot(kind='bar', logy=True, title=product, ax=axes[int(i/3), j])\n",
        "\n",
        "\n",
        "\n",
        "    plt.title(product)\n",
        "    \n",
        "fig.tight_layout()\n",
        "plt.show()\n",
        "\n"
      ],
      "execution_count": 31,
      "outputs": [
        {
          "output_type": "display_data",
          "data": {
            "image/png": "[encoded data removed]",
            "text/plain": [
              "<Figure size 1080x576 with 6 Axes>"
            ]
          },
          "metadata": {
            "tags": [],
            "needs_background": "light"
          }
        }
      ]
    },
    {
      "cell_type": "code",
      "metadata": {
        "id": "vFEr9kXzrNcG",
        "colab_type": "code",
        "colab": {
          "base_uri": "https://localhost:8080/",
          "height": 731
        },
        "outputId": "3fe89e9d-5c76-45d5-e548-4b9c6a75e0c1"
      },
      "source": [
        "def answ(products, names):\n",
        "  for i, product in enumerate(products):\n",
        "    print(f\"The 5 states that most export {names[i]} are:\")\n",
        "    for i, state in enumerate(product.index):\n",
        "      print(f\"{i+1} - {state} - {product.loc[state]['usd']}\")\n",
        "    print()\n",
        "\n",
        "\n",
        "answ(products, pd.unique(export['product'].values))"
      ],
      "execution_count": 32,
      "outputs": [
        {
          "output_type": "stream",
          "text": [
            "The 5 states that most export corn are:\n",
            "1 - MT - 28375516035.0\n",
            "2 - PR - 9160511995.0\n",
            "3 - GO - 5706990655.0\n",
            "4 - MS - 3405430680.0\n",
            "5 - SP - 1511121926.0\n",
            "\n",
            "The 5 states that most export soybean_meal are:\n",
            "1 - MT - 27994539842.0\n",
            "2 - PR - 24649962821.0\n",
            "3 - RS - 15007385729.0\n",
            "4 - GO - 9421430703.0\n",
            "5 - BA - 5439265638.0\n",
            "\n",
            "The 5 states that most export soybean_oil are:\n",
            "1 - PR - 11109102057.0\n",
            "2 - RS - 6281965055.0\n",
            "3 - MT - 5434513926.0\n",
            "4 - SC - 1238810673.0\n",
            "5 - GO - 855920734.0\n",
            "\n",
            "The 5 states that most export soybeans are:\n",
            "1 - MT - 80506781707.0\n",
            "2 - PR - 48484101052.0\n",
            "3 - RS - 46136733396.0\n",
            "4 - GO - 21268827303.0\n",
            "5 - MS - 13284815678.0\n",
            "\n",
            "The 5 states that most export sugar are:\n",
            "1 - SP - 66211861392.0\n",
            "2 - MG - 8559401218.0\n",
            "3 - PR - 8270778644.0\n",
            "4 - AL - 4826419200.0\n",
            "5 - MS - 3219034929.0\n",
            "\n",
            "The 5 states that most export wheat are:\n",
            "1 - RS - 1555925283.0\n",
            "2 - PR - 183935397.0\n",
            "3 - SC - 25400089.0\n",
            "4 - SP - 2267024.0\n",
            "5 - MS - 275733.0\n",
            "\n"
          ],
          "name": "stdout"
        }
      ]
    },
    {
      "cell_type": "markdown",
      "metadata": {
        "id": "Nysq2eMc23yi",
        "colab_type": "text"
      },
      "source": [
        "# Modeling\n",
        "### Question: What should be the total brazilian soybeans, soybean_meal, and corn export forecasts, in tons, for the next 11 years (2020-2030)?"
      ]
    },
    {
      "cell_type": "code",
      "metadata": {
        "id": "OMa4WeAD23yj",
        "colab_type": "code",
        "colab": {}
      },
      "source": [
        "cov = pd.read_excel(\"https://github.com/eduardo-vicentini/challenge/blob/master/covariates.xlsx?raw=true\", parse_dates=[0])"
      ],
      "execution_count": 33,
      "outputs": []
    },
    {
      "cell_type": "code",
      "metadata": {
        "id": "-R-JJ4gA23ym",
        "colab_type": "code",
        "colab": {}
      },
      "source": [
        "cov_2 = cov.dropna()"
      ],
      "execution_count": 34,
      "outputs": []
    },
    {
      "cell_type": "code",
      "metadata": {
        "id": "psgbHcun23yt",
        "colab_type": "code",
        "colab": {
          "base_uri": "https://localhost:8080/",
          "height": 204
        },
        "outputId": "6bbf3bfd-f7a3-4abc-c6e8-c8f502fa81fd"
      },
      "source": [
        "cov_2.head()"
      ],
      "execution_count": 35,
      "outputs": [
        {
          "output_type": "execute_result",
          "data": {
            "text/html": [
              "<div>\n",
              "<style scoped>\n",
              "    .dataframe tbody tr th:only-of-type {\n",
              "        vertical-align: middle;\n",
              "    }\n",
              "\n",
              "    .dataframe tbody tr th {\n",
              "        vertical-align: top;\n",
              "    }\n",
              "\n",
              "    .dataframe thead th {\n",
              "        text-align: right;\n",
              "    }\n",
              "</style>\n",
              "<table border=\"1\" class=\"dataframe\">\n",
              "  <thead>\n",
              "    <tr style=\"text-align: right;\">\n",
              "      <th></th>\n",
              "      <th>year</th>\n",
              "      <th>price_soybeans</th>\n",
              "      <th>price_corn</th>\n",
              "      <th>price_soybean_meal</th>\n",
              "      <th>gdp_china</th>\n",
              "      <th>gdp_iran</th>\n",
              "      <th>gpd_netherlands</th>\n",
              "      <th>gdp_spain</th>\n",
              "      <th>gdp_thailand</th>\n",
              "      <th>gdp_world</th>\n",
              "      <th>gdp_egypt</th>\n",
              "      <th>gdp_japan</th>\n",
              "      <th>gdp_vietnam</th>\n",
              "    </tr>\n",
              "  </thead>\n",
              "  <tbody>\n",
              "    <tr>\n",
              "      <th>1</th>\n",
              "      <td>1980-01-01</td>\n",
              "      <td>100.000000</td>\n",
              "      <td>100.000000</td>\n",
              "      <td>100.000000</td>\n",
              "      <td>107.900000</td>\n",
              "      <td>81.200000</td>\n",
              "      <td>100.000000</td>\n",
              "      <td>101.200000</td>\n",
              "      <td>104.600000</td>\n",
              "      <td>102.100000</td>\n",
              "      <td>103.400000</td>\n",
              "      <td>103.200000</td>\n",
              "      <td>96.500000</td>\n",
              "    </tr>\n",
              "    <tr>\n",
              "      <th>2</th>\n",
              "      <td>1981-01-01</td>\n",
              "      <td>98.525508</td>\n",
              "      <td>103.888308</td>\n",
              "      <td>99.805440</td>\n",
              "      <td>113.402900</td>\n",
              "      <td>74.216800</td>\n",
              "      <td>99.500000</td>\n",
              "      <td>100.795200</td>\n",
              "      <td>110.771400</td>\n",
              "      <td>104.039900</td>\n",
              "      <td>105.674800</td>\n",
              "      <td>107.534400</td>\n",
              "      <td>102.097000</td>\n",
              "    </tr>\n",
              "    <tr>\n",
              "      <th>3</th>\n",
              "      <td>1982-01-01</td>\n",
              "      <td>83.406192</td>\n",
              "      <td>85.986430</td>\n",
              "      <td>86.596956</td>\n",
              "      <td>123.609161</td>\n",
              "      <td>83.939201</td>\n",
              "      <td>98.206500</td>\n",
              "      <td>102.004742</td>\n",
              "      <td>116.753056</td>\n",
              "      <td>104.664139</td>\n",
              "      <td>113.389060</td>\n",
              "      <td>111.083035</td>\n",
              "      <td>110.468954</td>\n",
              "    </tr>\n",
              "    <tr>\n",
              "      <th>4</th>\n",
              "      <td>1983-01-01</td>\n",
              "      <td>97.851743</td>\n",
              "      <td>108.168059</td>\n",
              "      <td>98.663318</td>\n",
              "      <td>136.958950</td>\n",
              "      <td>95.522811</td>\n",
              "      <td>99.974217</td>\n",
              "      <td>103.738823</td>\n",
              "      <td>123.291227</td>\n",
              "      <td>107.594735</td>\n",
              "      <td>123.480687</td>\n",
              "      <td>114.970941</td>\n",
              "      <td>118.312250</td>\n",
              "    </tr>\n",
              "    <tr>\n",
              "      <th>5</th>\n",
              "      <td>1984-01-01</td>\n",
              "      <td>97.056065</td>\n",
              "      <td>108.037577</td>\n",
              "      <td>84.719333</td>\n",
              "      <td>157.776711</td>\n",
              "      <td>86.066052</td>\n",
              "      <td>103.073418</td>\n",
              "      <td>105.502383</td>\n",
              "      <td>130.442118</td>\n",
              "      <td>112.436498</td>\n",
              "      <td>133.359142</td>\n",
              "      <td>120.144634</td>\n",
              "      <td>128.250479</td>\n",
              "    </tr>\n",
              "  </tbody>\n",
              "</table>\n",
              "</div>"
            ],
            "text/plain": [
              "        year  price_soybeans  price_corn  ...   gdp_egypt   gdp_japan  gdp_vietnam\n",
              "1 1980-01-01      100.000000  100.000000  ...  103.400000  103.200000    96.500000\n",
              "2 1981-01-01       98.525508  103.888308  ...  105.674800  107.534400   102.097000\n",
              "3 1982-01-01       83.406192   85.986430  ...  113.389060  111.083035   110.468954\n",
              "4 1983-01-01       97.851743  108.168059  ...  123.480687  114.970941   118.312250\n",
              "5 1984-01-01       97.056065  108.037577  ...  133.359142  120.144634   128.250479\n",
              "\n",
              "[5 rows x 13 columns]"
            ]
          },
          "metadata": {
            "tags": []
          },
          "execution_count": 35
        }
      ]
    },
    {
      "cell_type": "code",
      "metadata": {
        "id": "zzJjMaaL23yv",
        "colab_type": "code",
        "colab": {
          "base_uri": "https://localhost:8080/",
          "height": 204
        },
        "outputId": "54d40b23-5dfe-4079-b2a1-91e13764a11c"
      },
      "source": [
        "cov_2['year']  = pd.to_datetime(cov_2['year'])\n",
        "data['date']  = pd.to_datetime(data['date'])\n",
        "data.head()"
      ],
      "execution_count": 36,
      "outputs": [
        {
          "output_type": "execute_result",
          "data": {
            "text/html": [
              "<div>\n",
              "<style scoped>\n",
              "    .dataframe tbody tr th:only-of-type {\n",
              "        vertical-align: middle;\n",
              "    }\n",
              "\n",
              "    .dataframe tbody tr th {\n",
              "        vertical-align: top;\n",
              "    }\n",
              "\n",
              "    .dataframe thead th {\n",
              "        text-align: right;\n",
              "    }\n",
              "</style>\n",
              "<table border=\"1\" class=\"dataframe\">\n",
              "  <thead>\n",
              "    <tr style=\"text-align: right;\">\n",
              "      <th></th>\n",
              "      <th>date</th>\n",
              "      <th>product</th>\n",
              "      <th>state</th>\n",
              "      <th>country</th>\n",
              "      <th>type</th>\n",
              "      <th>route</th>\n",
              "      <th>tons</th>\n",
              "      <th>usd</th>\n",
              "    </tr>\n",
              "  </thead>\n",
              "  <tbody>\n",
              "    <tr>\n",
              "      <th>0</th>\n",
              "      <td>1997-01-01</td>\n",
              "      <td>corn</td>\n",
              "      <td>ES</td>\n",
              "      <td>United States</td>\n",
              "      <td>Import</td>\n",
              "      <td>Sea</td>\n",
              "      <td>44.045</td>\n",
              "      <td>113029.0</td>\n",
              "    </tr>\n",
              "    <tr>\n",
              "      <th>1</th>\n",
              "      <td>1997-01-01</td>\n",
              "      <td>corn</td>\n",
              "      <td>GO</td>\n",
              "      <td>Argentina</td>\n",
              "      <td>Import</td>\n",
              "      <td>Ground</td>\n",
              "      <td>54.000</td>\n",
              "      <td>36720.0</td>\n",
              "    </tr>\n",
              "    <tr>\n",
              "      <th>2</th>\n",
              "      <td>1997-01-01</td>\n",
              "      <td>corn</td>\n",
              "      <td>GO</td>\n",
              "      <td>Bolivia</td>\n",
              "      <td>Export</td>\n",
              "      <td>Ground</td>\n",
              "      <td>0.200</td>\n",
              "      <td>180.0</td>\n",
              "    </tr>\n",
              "    <tr>\n",
              "      <th>3</th>\n",
              "      <td>1997-01-01</td>\n",
              "      <td>corn</td>\n",
              "      <td>GO</td>\n",
              "      <td>United States</td>\n",
              "      <td>Export</td>\n",
              "      <td>Sea</td>\n",
              "      <td>3.488</td>\n",
              "      <td>5688.0</td>\n",
              "    </tr>\n",
              "    <tr>\n",
              "      <th>4</th>\n",
              "      <td>1997-01-01</td>\n",
              "      <td>corn</td>\n",
              "      <td>MG</td>\n",
              "      <td>Argentina</td>\n",
              "      <td>Import</td>\n",
              "      <td>Ground</td>\n",
              "      <td>27.000</td>\n",
              "      <td>18630.0</td>\n",
              "    </tr>\n",
              "  </tbody>\n",
              "</table>\n",
              "</div>"
            ],
            "text/plain": [
              "        date product state        country    type   route    tons       usd\n",
              "0 1997-01-01    corn    ES  United States  Import     Sea  44.045  113029.0\n",
              "1 1997-01-01    corn    GO      Argentina  Import  Ground  54.000   36720.0\n",
              "2 1997-01-01    corn    GO        Bolivia  Export  Ground   0.200     180.0\n",
              "3 1997-01-01    corn    GO  United States  Export     Sea   3.488    5688.0\n",
              "4 1997-01-01    corn    MG      Argentina  Import  Ground  27.000   18630.0"
            ]
          },
          "metadata": {
            "tags": []
          },
          "execution_count": 36
        }
      ]
    },
    {
      "cell_type": "code",
      "metadata": {
        "id": "lfkPYt6123yy",
        "colab_type": "code",
        "colab": {
          "base_uri": "https://localhost:8080/",
          "height": 359
        },
        "outputId": "c91e6895-0028-4c63-8f47-f0b02a90cb9a"
      },
      "source": [
        "corn = data[data[\"product\"] == \"corn\"][['date', 'usd']]\n",
        "soybean = data[data[\"product\"] == \"soybeans\"][['date', 'usd']]\n",
        "soybean_meal = data[data[\"product\"] == \"soybean_meal\"][['date', 'usd']]\n",
        "soybean_meal.head(10)"
      ],
      "execution_count": 37,
      "outputs": [
        {
          "output_type": "execute_result",
          "data": {
            "text/html": [
              "<div>\n",
              "<style scoped>\n",
              "    .dataframe tbody tr th:only-of-type {\n",
              "        vertical-align: middle;\n",
              "    }\n",
              "\n",
              "    .dataframe tbody tr th {\n",
              "        vertical-align: top;\n",
              "    }\n",
              "\n",
              "    .dataframe thead th {\n",
              "        text-align: right;\n",
              "    }\n",
              "</style>\n",
              "<table border=\"1\" class=\"dataframe\">\n",
              "  <thead>\n",
              "    <tr style=\"text-align: right;\">\n",
              "      <th></th>\n",
              "      <th>date</th>\n",
              "      <th>usd</th>\n",
              "    </tr>\n",
              "  </thead>\n",
              "  <tbody>\n",
              "    <tr>\n",
              "      <th>19</th>\n",
              "      <td>1997-01-01</td>\n",
              "      <td>119318.0</td>\n",
              "    </tr>\n",
              "    <tr>\n",
              "      <th>20</th>\n",
              "      <td>1997-01-01</td>\n",
              "      <td>1414250.0</td>\n",
              "    </tr>\n",
              "    <tr>\n",
              "      <th>21</th>\n",
              "      <td>1997-01-01</td>\n",
              "      <td>38378.0</td>\n",
              "    </tr>\n",
              "    <tr>\n",
              "      <th>22</th>\n",
              "      <td>1997-01-01</td>\n",
              "      <td>4042100.0</td>\n",
              "    </tr>\n",
              "    <tr>\n",
              "      <th>23</th>\n",
              "      <td>1997-01-01</td>\n",
              "      <td>3850162.0</td>\n",
              "    </tr>\n",
              "    <tr>\n",
              "      <th>24</th>\n",
              "      <td>1997-01-01</td>\n",
              "      <td>1397150.0</td>\n",
              "    </tr>\n",
              "    <tr>\n",
              "      <th>25</th>\n",
              "      <td>1997-01-01</td>\n",
              "      <td>2902485.0</td>\n",
              "    </tr>\n",
              "    <tr>\n",
              "      <th>26</th>\n",
              "      <td>1997-01-01</td>\n",
              "      <td>3975031.0</td>\n",
              "    </tr>\n",
              "    <tr>\n",
              "      <th>27</th>\n",
              "      <td>1997-01-01</td>\n",
              "      <td>410350.0</td>\n",
              "    </tr>\n",
              "    <tr>\n",
              "      <th>28</th>\n",
              "      <td>1997-01-01</td>\n",
              "      <td>587615.0</td>\n",
              "    </tr>\n",
              "  </tbody>\n",
              "</table>\n",
              "</div>"
            ],
            "text/plain": [
              "         date        usd\n",
              "19 1997-01-01   119318.0\n",
              "20 1997-01-01  1414250.0\n",
              "21 1997-01-01    38378.0\n",
              "22 1997-01-01  4042100.0\n",
              "23 1997-01-01  3850162.0\n",
              "24 1997-01-01  1397150.0\n",
              "25 1997-01-01  2902485.0\n",
              "26 1997-01-01  3975031.0\n",
              "27 1997-01-01   410350.0\n",
              "28 1997-01-01   587615.0"
            ]
          },
          "metadata": {
            "tags": []
          },
          "execution_count": 37
        }
      ]
    },
    {
      "cell_type": "code",
      "metadata": {
        "id": "OSwZCc7P23y1",
        "colab_type": "code",
        "colab": {
          "base_uri": "https://localhost:8080/",
          "height": 235
        },
        "outputId": "f3f414ff-e062-458f-c6ef-b275297586e4"
      },
      "source": [
        "corn = corn.groupby(\"date\").sum()\n",
        "soybean = soybean.groupby(\"date\").sum()\n",
        "soybean_meal = soybean_meal.groupby(\"date\").sum()\n",
        "corn.head()"
      ],
      "execution_count": 38,
      "outputs": [
        {
          "output_type": "execute_result",
          "data": {
            "text/html": [
              "<div>\n",
              "<style scoped>\n",
              "    .dataframe tbody tr th:only-of-type {\n",
              "        vertical-align: middle;\n",
              "    }\n",
              "\n",
              "    .dataframe tbody tr th {\n",
              "        vertical-align: top;\n",
              "    }\n",
              "\n",
              "    .dataframe thead th {\n",
              "        text-align: right;\n",
              "    }\n",
              "</style>\n",
              "<table border=\"1\" class=\"dataframe\">\n",
              "  <thead>\n",
              "    <tr style=\"text-align: right;\">\n",
              "      <th></th>\n",
              "      <th>usd</th>\n",
              "    </tr>\n",
              "    <tr>\n",
              "      <th>date</th>\n",
              "      <th></th>\n",
              "    </tr>\n",
              "  </thead>\n",
              "  <tbody>\n",
              "    <tr>\n",
              "      <th>1997-01-01</th>\n",
              "      <td>22348700.0</td>\n",
              "    </tr>\n",
              "    <tr>\n",
              "      <th>1997-02-01</th>\n",
              "      <td>18473188.0</td>\n",
              "    </tr>\n",
              "    <tr>\n",
              "      <th>1997-03-01</th>\n",
              "      <td>12741296.0</td>\n",
              "    </tr>\n",
              "    <tr>\n",
              "      <th>1997-04-01</th>\n",
              "      <td>12645430.0</td>\n",
              "    </tr>\n",
              "    <tr>\n",
              "      <th>1997-05-01</th>\n",
              "      <td>6439312.0</td>\n",
              "    </tr>\n",
              "  </tbody>\n",
              "</table>\n",
              "</div>"
            ],
            "text/plain": [
              "                   usd\n",
              "date                  \n",
              "1997-01-01  22348700.0\n",
              "1997-02-01  18473188.0\n",
              "1997-03-01  12741296.0\n",
              "1997-04-01  12645430.0\n",
              "1997-05-01   6439312.0"
            ]
          },
          "metadata": {
            "tags": []
          },
          "execution_count": 38
        }
      ]
    },
    {
      "cell_type": "code",
      "metadata": {
        "id": "IKrfgBMh7z1B",
        "colab_type": "code",
        "colab": {
          "base_uri": "https://localhost:8080/",
          "height": 235
        },
        "outputId": "073300c4-9955-469d-9029-d6298dd48059"
      },
      "source": [
        "corn.tail()"
      ],
      "execution_count": 39,
      "outputs": [
        {
          "output_type": "execute_result",
          "data": {
            "text/html": [
              "<div>\n",
              "<style scoped>\n",
              "    .dataframe tbody tr th:only-of-type {\n",
              "        vertical-align: middle;\n",
              "    }\n",
              "\n",
              "    .dataframe tbody tr th {\n",
              "        vertical-align: top;\n",
              "    }\n",
              "\n",
              "    .dataframe thead th {\n",
              "        text-align: right;\n",
              "    }\n",
              "</style>\n",
              "<table border=\"1\" class=\"dataframe\">\n",
              "  <thead>\n",
              "    <tr style=\"text-align: right;\">\n",
              "      <th></th>\n",
              "      <th>usd</th>\n",
              "    </tr>\n",
              "    <tr>\n",
              "      <th>date</th>\n",
              "      <th></th>\n",
              "    </tr>\n",
              "  </thead>\n",
              "  <tbody>\n",
              "    <tr>\n",
              "      <th>2019-08-01</th>\n",
              "      <td>1.221947e+09</td>\n",
              "    </tr>\n",
              "    <tr>\n",
              "      <th>2019-09-01</th>\n",
              "      <td>1.070322e+09</td>\n",
              "    </tr>\n",
              "    <tr>\n",
              "      <th>2019-10-01</th>\n",
              "      <td>1.013438e+09</td>\n",
              "    </tr>\n",
              "    <tr>\n",
              "      <th>2019-11-01</th>\n",
              "      <td>7.173578e+08</td>\n",
              "    </tr>\n",
              "    <tr>\n",
              "      <th>2019-12-01</th>\n",
              "      <td>7.258093e+08</td>\n",
              "    </tr>\n",
              "  </tbody>\n",
              "</table>\n",
              "</div>"
            ],
            "text/plain": [
              "                     usd\n",
              "date                    \n",
              "2019-08-01  1.221947e+09\n",
              "2019-09-01  1.070322e+09\n",
              "2019-10-01  1.013438e+09\n",
              "2019-11-01  7.173578e+08\n",
              "2019-12-01  7.258093e+08"
            ]
          },
          "metadata": {
            "tags": []
          },
          "execution_count": 39
        }
      ]
    },
    {
      "cell_type": "code",
      "metadata": {
        "id": "8HsvaT2723y8",
        "colab_type": "code",
        "colab": {
          "base_uri": "https://localhost:8080/",
          "height": 290
        },
        "outputId": "a67e097b-1f49-4080-9786-2ab5556bc68e"
      },
      "source": [
        "corn.plot()\n",
        "plt.show()"
      ],
      "execution_count": 40,
      "outputs": [
        {
          "output_type": "display_data",
          "data": {
            "image/png": "[encoded data removed]",
            "text/plain": [
              "<Figure size 432x288 with 1 Axes>"
            ]
          },
          "metadata": {
            "tags": [],
            "needs_background": "light"
          }
        }
      ]
    },
    {
      "cell_type": "code",
      "metadata": {
        "id": "-Kw2o5Fb23zA",
        "colab_type": "code",
        "colab": {}
      },
      "source": [
        "def split_train_test(df, date='01-01-2017'):\n",
        "  df_train = df.loc[df.index <= date].copy()\n",
        "  df_test = df.loc[df.index > date].copy()\n",
        "\n",
        "  return df_train, df_test"
      ],
      "execution_count": 41,
      "outputs": []
    },
    {
      "cell_type": "code",
      "metadata": {
        "id": "4C0n8Roj_aHU",
        "colab_type": "code",
        "colab": {}
      },
      "source": [
        "corn_train, corn_test = split_train_test(corn)\n",
        "soybean_train, soybean_test = split_train_test(soybean)\n",
        "soybean_meal_train, soybean_meal_test = split_train_test(soybean_meal)"
      ],
      "execution_count": 42,
      "outputs": []
    },
    {
      "cell_type": "code",
      "metadata": {
        "id": "zzxwSYa05VlT",
        "colab_type": "code",
        "colab": {
          "base_uri": "https://localhost:8080/",
          "height": 1000
        },
        "outputId": "6bd7b7f9-c7b0-4467-ca43-3a93ce1261ec"
      },
      "source": [
        "corn_test \\\n",
        "    .rename(columns={'usd': 'TEST SET'}) \\\n",
        "    .join(corn_train.rename(columns={'usd': 'TRAINING SET'}), how='outer') \\\n",
        "    .plot(figsize=(15,5), title='usd corn', style='.')\n",
        "plt.show()\n",
        "\n",
        "soybean_test \\\n",
        "    .rename(columns={'usd': 'TEST SET'}) \\\n",
        "    .join(soybean_train.rename(columns={'usd': 'TRAINING SET'}), how='outer') \\\n",
        "    .plot(figsize=(15,5), title='usd soybean', style='.')\n",
        "plt.show()\n",
        "\n",
        "soybean_meal_test \\\n",
        "    .rename(columns={'usd': 'TEST SET'}) \\\n",
        "    .join(soybean_meal_train.rename(columns={'usd': 'TRAINING SET'}), how='outer') \\\n",
        "    .plot(figsize=(15,5), title='usd soybean meal', style='.')\n",
        "plt.show()"
      ],
      "execution_count": 43,
      "outputs": [
        {
          "output_type": "display_data",
          "data": {
            "image/png": "[encoded data removed]",
            "text/plain": [
              "<Figure size 1080x360 with 1 Axes>"
            ]
          },
          "metadata": {
            "tags": [],
            "needs_background": "light"
          }
        },
        {
          "output_type": "display_data",
          "data": {
            "image/png": "[encoded data removed]",
            "text/plain": [
              "<Figure size 1080x360 with 1 Axes>"
            ]
          },
          "metadata": {
            "tags": [],
            "needs_background": "light"
          }
        },
        {
          "output_type": "display_data",
          "data": {
            "image/png": "[encoded data removed]",
            "text/plain": [
              "<Figure size 1080x360 with 1 Axes>"
            ]
          },
          "metadata": {
            "tags": [],
            "needs_background": "light"
          }
        }
      ]
    },
    {
      "cell_type": "code",
      "metadata": {
        "id": "G9S-AtZs4iKx",
        "colab_type": "code",
        "colab": {}
      },
      "source": [
        "def create_features(df, label=None):\n",
        "    \"\"\"\n",
        "    Creates time series features from datetime index\n",
        "    \"\"\"\n",
        "    df['date'] = df.index\n",
        "    df['month'] = df['date'].dt.month\n",
        "    df['year'] = df['date'].dt.year\n",
        "    \n",
        "    \n",
        "    X = df[['month','year']]\n",
        "    if label:\n",
        "        y = df[label]\n",
        "        return X, y\n",
        "    return X"
      ],
      "execution_count": 44,
      "outputs": []
    },
    {
      "cell_type": "code",
      "metadata": {
        "id": "dLf8kgMu4use",
        "colab_type": "code",
        "colab": {}
      },
      "source": [
        "X_train, y_train = create_features(corn_train, label='usd')\n",
        "X_test, y_test = create_features(corn_test, label='usd')"
      ],
      "execution_count": 45,
      "outputs": []
    },
    {
      "cell_type": "code",
      "metadata": {
        "id": "WqI7rlngEC7B",
        "colab_type": "code",
        "colab": {
          "base_uri": "https://localhost:8080/",
          "height": 450
        },
        "outputId": "347b7787-bc13-4e3d-9d10-cdfc23e11de1"
      },
      "source": [
        "X_train"
      ],
      "execution_count": 46,
      "outputs": [
        {
          "output_type": "execute_result",
          "data": {
            "text/html": [
              "<div>\n",
              "<style scoped>\n",
              "    .dataframe tbody tr th:only-of-type {\n",
              "        vertical-align: middle;\n",
              "    }\n",
              "\n",
              "    .dataframe tbody tr th {\n",
              "        vertical-align: top;\n",
              "    }\n",
              "\n",
              "    .dataframe thead th {\n",
              "        text-align: right;\n",
              "    }\n",
              "</style>\n",
              "<table border=\"1\" class=\"dataframe\">\n",
              "  <thead>\n",
              "    <tr style=\"text-align: right;\">\n",
              "      <th></th>\n",
              "      <th>month</th>\n",
              "      <th>year</th>\n",
              "    </tr>\n",
              "    <tr>\n",
              "      <th>date</th>\n",
              "      <th></th>\n",
              "      <th></th>\n",
              "    </tr>\n",
              "  </thead>\n",
              "  <tbody>\n",
              "    <tr>\n",
              "      <th>1997-01-01</th>\n",
              "      <td>1</td>\n",
              "      <td>1997</td>\n",
              "    </tr>\n",
              "    <tr>\n",
              "      <th>1997-02-01</th>\n",
              "      <td>2</td>\n",
              "      <td>1997</td>\n",
              "    </tr>\n",
              "    <tr>\n",
              "      <th>1997-03-01</th>\n",
              "      <td>3</td>\n",
              "      <td>1997</td>\n",
              "    </tr>\n",
              "    <tr>\n",
              "      <th>1997-04-01</th>\n",
              "      <td>4</td>\n",
              "      <td>1997</td>\n",
              "    </tr>\n",
              "    <tr>\n",
              "      <th>1997-05-01</th>\n",
              "      <td>5</td>\n",
              "      <td>1997</td>\n",
              "    </tr>\n",
              "    <tr>\n",
              "      <th>...</th>\n",
              "      <td>...</td>\n",
              "      <td>...</td>\n",
              "    </tr>\n",
              "    <tr>\n",
              "      <th>2016-09-01</th>\n",
              "      <td>9</td>\n",
              "      <td>2016</td>\n",
              "    </tr>\n",
              "    <tr>\n",
              "      <th>2016-10-01</th>\n",
              "      <td>10</td>\n",
              "      <td>2016</td>\n",
              "    </tr>\n",
              "    <tr>\n",
              "      <th>2016-11-01</th>\n",
              "      <td>11</td>\n",
              "      <td>2016</td>\n",
              "    </tr>\n",
              "    <tr>\n",
              "      <th>2016-12-01</th>\n",
              "      <td>12</td>\n",
              "      <td>2016</td>\n",
              "    </tr>\n",
              "    <tr>\n",
              "      <th>2017-01-01</th>\n",
              "      <td>1</td>\n",
              "      <td>2017</td>\n",
              "    </tr>\n",
              "  </tbody>\n",
              "</table>\n",
              "<p>241 rows × 2 columns</p>\n",
              "</div>"
            ],
            "text/plain": [
              "            month  year\n",
              "date                   \n",
              "1997-01-01      1  1997\n",
              "1997-02-01      2  1997\n",
              "1997-03-01      3  1997\n",
              "1997-04-01      4  1997\n",
              "1997-05-01      5  1997\n",
              "...           ...   ...\n",
              "2016-09-01      9  2016\n",
              "2016-10-01     10  2016\n",
              "2016-11-01     11  2016\n",
              "2016-12-01     12  2016\n",
              "2017-01-01      1  2017\n",
              "\n",
              "[241 rows x 2 columns]"
            ]
          },
          "metadata": {
            "tags": []
          },
          "execution_count": 46
        }
      ]
    },
    {
      "cell_type": "code",
      "metadata": {
        "id": "jYFvUhkY40Xm",
        "colab_type": "code",
        "colab": {
          "base_uri": "https://localhost:8080/",
          "height": 153
        },
        "outputId": "e94efa43-bbf4-4e9f-87c9-88fa4192a002"
      },
      "source": [
        "reg = xgb.XGBRegressor(n_estimators=1000)\n",
        "reg.fit(X_train, y_train,\n",
        "        eval_set=[(X_train, y_train), (X_test, y_test)],\n",
        "        early_stopping_rounds=5,\n",
        "       verbose=False) # Change verbose to True if you want to see it train"
      ],
      "execution_count": 47,
      "outputs": [
        {
          "output_type": "stream",
          "text": [
            "[17:46:03] WARNING: /workspace/src/objective/regression_obj.cu:152: reg:linear is now deprecated in favor of reg:squarederror.\n"
          ],
          "name": "stdout"
        },
        {
          "output_type": "execute_result",
          "data": {
            "text/plain": [
              "XGBRegressor(base_score=0.5, booster='gbtree', colsample_bylevel=1,\n",
              "             colsample_bynode=1, colsample_bytree=1, gamma=0,\n",
              "             importance_type='gain', learning_rate=0.1, max_delta_step=0,\n",
              "             max_depth=3, min_child_weight=1, missing=None, n_estimators=1000,\n",
              "             n_jobs=1, nthread=None, objective='reg:linear', random_state=0,\n",
              "             reg_alpha=0, reg_lambda=1, scale_pos_weight=1, seed=None,\n",
              "             silent=None, subsample=1, verbosity=1)"
            ]
          },
          "metadata": {
            "tags": []
          },
          "execution_count": 47
        }
      ]
    },
    {
      "cell_type": "markdown",
      "metadata": {
        "id": "gGQHGgOc43-X",
        "colab_type": "text"
      },
      "source": [
        "## Feature importances"
      ]
    },
    {
      "cell_type": "code",
      "metadata": {
        "id": "PPyYU7pG47Ug",
        "colab_type": "code",
        "colab": {
          "base_uri": "https://localhost:8080/",
          "height": 295
        },
        "outputId": "8136ebe4-a3d5-4e92-d7d7-7ceb442848ba"
      },
      "source": [
        "_ = plot_importance(reg, height=0.9)"
      ],
      "execution_count": 48,
      "outputs": [
        {
          "output_type": "display_data",
          "data": {
            "image/png": "[encoded data removed]",
            "text/plain": [
              "<Figure size 432x288 with 1 Axes>"
            ]
          },
          "metadata": {
            "tags": [],
            "needs_background": "light"
          }
        }
      ]
    },
    {
      "cell_type": "markdown",
      "metadata": {
        "id": "XIlAtWFI6p4r",
        "colab_type": "text"
      },
      "source": [
        "## Forecast on Test Set"
      ]
    },
    {
      "cell_type": "code",
      "metadata": {
        "id": "fd3_oPrx6idF",
        "colab_type": "code",
        "colab": {}
      },
      "source": [
        "corn_test['usd_Prediction'] = reg.predict(X_test)\n",
        "corn_all = pd.concat([corn_test, corn_train], sort=False)"
      ],
      "execution_count": 49,
      "outputs": []
    },
    {
      "cell_type": "code",
      "metadata": {
        "id": "f6c2lJ8167zc",
        "colab_type": "code",
        "colab": {
          "base_uri": "https://localhost:8080/",
          "height": 329
        },
        "outputId": "2a7b06d2-9efd-46f6-eba0-9c20c5f06f9c"
      },
      "source": [
        "_ = corn_all[['usd','usd_Prediction']].plot(figsize=(15, 5))"
      ],
      "execution_count": 50,
      "outputs": [
        {
          "output_type": "display_data",
          "data": {
            "image/png": "[encoded data removed]",
            "text/plain": [
              "<Figure size 1080x360 with 1 Axes>"
            ]
          },
          "metadata": {
            "tags": [],
            "needs_background": "light"
          }
        }
      ]
    },
    {
      "cell_type": "code",
      "metadata": {
        "id": "uJk4NKNs7C80",
        "colab_type": "code",
        "colab": {
          "base_uri": "https://localhost:8080/",
          "height": 362
        },
        "outputId": "53a25a15-bb51-4d64-cdeb-34eaff4da619"
      },
      "source": [
        "# Plot the forecast with the actuals\n",
        "f, ax = plt.subplots(1)\n",
        "f.set_figheight(5)\n",
        "f.set_figwidth(15)\n",
        "_ = corn_all[['usd_Prediction','usd']].plot(ax=ax,\n",
        "                                              style=['-','.'])\n",
        "ax.set_xbound(lower='01-01-2017', upper='01-01-2018')\n",
        "#ax.set_ylim(0, 60000)\n",
        "plot = plt.suptitle('2017-2018 Forecast vs Actuals')"
      ],
      "execution_count": 51,
      "outputs": [
        {
          "output_type": "display_data",
          "data": {
            "image/png": "[encoded data removed]",
            "text/plain": [
              "<Figure size 1080x360 with 1 Axes>"
            ]
          },
          "metadata": {
            "tags": [],
            "needs_background": "light"
          }
        }
      ]
    },
    {
      "cell_type": "code",
      "metadata": {
        "id": "H1aM3NQq7UMj",
        "colab_type": "code",
        "colab": {}
      },
      "source": [
        "def mean_absolute_percentage_error(y_true, y_pred): \n",
        "    \"\"\"Calculates MAPE given y_true and y_pred\"\"\"\n",
        "    y_true, y_pred = np.array(y_true), np.array(y_pred)\n",
        "    return np.mean(np.abs((y_true - y_pred) / y_true)) * 100"
      ],
      "execution_count": 52,
      "outputs": []
    },
    {
      "cell_type": "code",
      "metadata": {
        "id": "7TmnQqcf9K4C",
        "colab_type": "code",
        "colab": {
          "base_uri": "https://localhost:8080/",
          "height": 34
        },
        "outputId": "358ceaff-5a08-4b99-b5bb-cb5f801012e4"
      },
      "source": [
        "mean_absolute_percentage_error(y_true=corn_test['usd'],\n",
        "                   y_pred=corn_test['usd_Prediction'])"
      ],
      "execution_count": 53,
      "outputs": [
        {
          "output_type": "execute_result",
          "data": {
            "text/plain": [
              "98.63430662026326"
            ]
          },
          "metadata": {
            "tags": []
          },
          "execution_count": 53
        }
      ]
    },
    {
      "cell_type": "markdown",
      "metadata": {
        "id": "R63elAPq9Uyz",
        "colab_type": "text"
      },
      "source": [
        "This method is not producing good results"
      ]
    },
    {
      "cell_type": "markdown",
      "metadata": {
        "id": "LZrRmaU8N2UY",
        "colab_type": "text"
      },
      "source": [
        "## Using just annual data and the covariates"
      ]
    },
    {
      "cell_type": "code",
      "metadata": {
        "id": "730w5o3q9Rq_",
        "colab_type": "code",
        "colab": {}
      },
      "source": [
        "def create_year(df):\n",
        "    \"\"\"\n",
        "    Creates time series features from datetime index\n",
        "    \"\"\"\n",
        "    df['date'] = df.index\n",
        "    df['year'] = df['date'].dt.year\n",
        "     \n",
        "    return df"
      ],
      "execution_count": 54,
      "outputs": []
    },
    {
      "cell_type": "code",
      "metadata": {
        "id": "GfxtwE1bOn-u",
        "colab_type": "code",
        "colab": {}
      },
      "source": [
        "corn_year = create_year(corn).groupby(\"year\").sum()\n",
        "soybean_year = create_year(soybean).groupby(\"year\").sum()\n",
        "soybean_meal_year = create_year(soybean_meal).groupby(\"year\").sum()"
      ],
      "execution_count": 55,
      "outputs": []
    },
    {
      "cell_type": "code",
      "metadata": {
        "id": "wdxlEs5BO0ss",
        "colab_type": "code",
        "colab": {
          "base_uri": "https://localhost:8080/",
          "height": 235
        },
        "outputId": "cacfd965-0d2e-4635-a23f-417abdb06201"
      },
      "source": [
        "soybean_meal_year.head()"
      ],
      "execution_count": 56,
      "outputs": [
        {
          "output_type": "execute_result",
          "data": {
            "text/html": [
              "<div>\n",
              "<style scoped>\n",
              "    .dataframe tbody tr th:only-of-type {\n",
              "        vertical-align: middle;\n",
              "    }\n",
              "\n",
              "    .dataframe tbody tr th {\n",
              "        vertical-align: top;\n",
              "    }\n",
              "\n",
              "    .dataframe thead th {\n",
              "        text-align: right;\n",
              "    }\n",
              "</style>\n",
              "<table border=\"1\" class=\"dataframe\">\n",
              "  <thead>\n",
              "    <tr style=\"text-align: right;\">\n",
              "      <th></th>\n",
              "      <th>usd</th>\n",
              "    </tr>\n",
              "    <tr>\n",
              "      <th>year</th>\n",
              "      <th></th>\n",
              "    </tr>\n",
              "  </thead>\n",
              "  <tbody>\n",
              "    <tr>\n",
              "      <th>1997</th>\n",
              "      <td>2.744088e+09</td>\n",
              "    </tr>\n",
              "    <tr>\n",
              "      <th>1998</th>\n",
              "      <td>1.698539e+09</td>\n",
              "    </tr>\n",
              "    <tr>\n",
              "      <th>1999</th>\n",
              "      <td>1.460211e+09</td>\n",
              "    </tr>\n",
              "    <tr>\n",
              "      <th>2000</th>\n",
              "      <td>1.609578e+09</td>\n",
              "    </tr>\n",
              "    <tr>\n",
              "      <th>2001</th>\n",
              "      <td>1.974379e+09</td>\n",
              "    </tr>\n",
              "  </tbody>\n",
              "</table>\n",
              "</div>"
            ],
            "text/plain": [
              "               usd\n",
              "year              \n",
              "1997  2.744088e+09\n",
              "1998  1.698539e+09\n",
              "1999  1.460211e+09\n",
              "2000  1.609578e+09\n",
              "2001  1.974379e+09"
            ]
          },
          "metadata": {
            "tags": []
          },
          "execution_count": 56
        }
      ]
    },
    {
      "cell_type": "code",
      "metadata": {
        "id": "wNr2y_OlQjVM",
        "colab_type": "code",
        "colab": {}
      },
      "source": [
        "def split_train_test(df, test_size=5):\n",
        "  df_train = df.iloc[:len(df) - test_size].copy()\n",
        "  df_test = df.iloc[len(df) - test_size:].copy()\n",
        "\n",
        "  return df_train, df_test\n",
        "\n",
        "corn_year_train, corn_year_test = split_train_test(corn_year)\n",
        "soybean_year_train, soybean_year_test = split_train_test(soybean_year)\n",
        "soybean_meal_year_train, soybean_meal_year_test = split_train_test(soybean_meal_year)"
      ],
      "execution_count": 57,
      "outputs": []
    },
    {
      "cell_type": "code",
      "metadata": {
        "id": "taGaARn9iNys",
        "colab_type": "code",
        "colab": {
          "base_uri": "https://localhost:8080/",
          "height": 1000
        },
        "outputId": "fffe4f15-a40e-4100-e883-0a1af49aab2c"
      },
      "source": [
        "corn_year_test \\\n",
        "    .rename(columns={'usd': 'TEST SET'}) \\\n",
        "    .join(corn_year_train.rename(columns={'usd': 'TRAINING SET'}), how='outer') \\\n",
        "    .plot(figsize=(15,5), title='usd corn', style='.')\n",
        "plt.show()\n",
        "\n",
        "soybean_year_test \\\n",
        "    .rename(columns={'usd': 'TEST SET'}) \\\n",
        "    .join(soybean_year_train.rename(columns={'usd': 'TRAINING SET'}), how='outer') \\\n",
        "    .plot(figsize=(15,5), title='usd soybean', style='.')\n",
        "plt.show()\n",
        "\n",
        "soybean_meal_year_test \\\n",
        "    .rename(columns={'usd': 'TEST SET'}) \\\n",
        "    .join(soybean_meal_year_train.rename(columns={'usd': 'TRAINING SET'}), how='outer') \\\n",
        "    .plot(figsize=(15,5), title='usd soybean meal', style='.')\n",
        "plt.show()"
      ],
      "execution_count": 58,
      "outputs": [
        {
          "output_type": "display_data",
          "data": {
            "image/png": "[encoded data removed]",
            "text/plain": [
              "<Figure size 1080x360 with 1 Axes>"
            ]
          },
          "metadata": {
            "tags": [],
            "needs_background": "light"
          }
        },
        {
          "output_type": "display_data",
          "data": {
            "image/png": "[encoded data removed]",
            "text/plain": [
              "<Figure size 1080x360 with 1 Axes>"
            ]
          },
          "metadata": {
            "tags": [],
            "needs_background": "light"
          }
        },
        {
          "output_type": "display_data",
          "data": {
            "image/png": "[encoded data removed]",
            "text/plain": [
              "<Figure size 1080x360 with 1 Axes>"
            ]
          },
          "metadata": {
            "tags": [],
            "needs_background": "light"
          }
        }
      ]
    },
    {
      "cell_type": "code",
      "metadata": {
        "id": "wReGRHX8QHTq",
        "colab_type": "code",
        "colab": {
          "base_uri": "https://localhost:8080/",
          "height": 85
        },
        "outputId": "a1cd8655-954d-41af-a000-07817b613974"
      },
      "source": [
        "cov_2['year'] = cov_2['year'].dt.year\n",
        "cov_2.columns"
      ],
      "execution_count": 59,
      "outputs": [
        {
          "output_type": "execute_result",
          "data": {
            "text/plain": [
              "Index(['year', 'price_soybeans', 'price_corn', 'price_soybean_meal',\n",
              "       'gdp_china', 'gdp_iran', 'gpd_netherlands', 'gdp_spain', 'gdp_thailand',\n",
              "       'gdp_world', 'gdp_egypt', 'gdp_japan', 'gdp_vietnam'],\n",
              "      dtype='object')"
            ]
          },
          "metadata": {
            "tags": []
          },
          "execution_count": 59
        }
      ]
    },
    {
      "cell_type": "code",
      "metadata": {
        "id": "qayHRMlNga2A",
        "colab_type": "code",
        "colab": {}
      },
      "source": [
        "def create_features(df, label=None):\n",
        "    \"\"\"\n",
        "    Creates time series features from datetime index\n",
        "    \"\"\"\n",
        "    df = pd.merge(df, cov_2, on='year')\n",
        "    \n",
        "    \n",
        "    X = df[['price_soybeans', 'price_corn', 'price_soybean_meal',\n",
        "       'gdp_china', 'gdp_iran', 'gpd_netherlands', 'gdp_spain', 'gdp_thailand',\n",
        "       'gdp_world', 'gdp_egypt', 'gdp_japan', 'gdp_vietnam']]\n",
        "    if label:\n",
        "        y = df[label]\n",
        "        return X, y\n",
        "    return X"
      ],
      "execution_count": 60,
      "outputs": []
    },
    {
      "cell_type": "code",
      "metadata": {
        "id": "zYUG0UkkPNWr",
        "colab_type": "code",
        "colab": {}
      },
      "source": [
        "Xcorn_year_train, ycorn_year_train = create_features(corn_year_train, label='usd')\n",
        "Xcorn_year_test, ycorn_year_test = create_features(corn_year_test, label='usd')\n",
        "Xsoybean_year_train, ysoybean_year_train = create_features(soybean_year_train, label='usd')\n",
        "Xsoybean_year_test, ysoybean_year_test = create_features(soybean_year_test, label='usd')\n",
        "Xsoybean_meal_year_train, ysoybean_meal_year_train = create_features(soybean_meal_year_train, label='usd')\n",
        "Xsoybean_meal_year_test, ysoybean_meal_year_test = create_features(soybean_meal_year_test, label='usd')"
      ],
      "execution_count": 61,
      "outputs": []
    },
    {
      "cell_type": "code",
      "metadata": {
        "id": "AT-W_OrVZY9G",
        "colab_type": "code",
        "colab": {
          "base_uri": "https://localhost:8080/",
          "height": 204
        },
        "outputId": "147d4bff-b696-4838-d7c2-79a1d54f1abf"
      },
      "source": [
        "Xsoybean_meal_year_train.head()"
      ],
      "execution_count": 62,
      "outputs": [
        {
          "output_type": "execute_result",
          "data": {
            "text/html": [
              "<div>\n",
              "<style scoped>\n",
              "    .dataframe tbody tr th:only-of-type {\n",
              "        vertical-align: middle;\n",
              "    }\n",
              "\n",
              "    .dataframe tbody tr th {\n",
              "        vertical-align: top;\n",
              "    }\n",
              "\n",
              "    .dataframe thead th {\n",
              "        text-align: right;\n",
              "    }\n",
              "</style>\n",
              "<table border=\"1\" class=\"dataframe\">\n",
              "  <thead>\n",
              "    <tr style=\"text-align: right;\">\n",
              "      <th></th>\n",
              "      <th>price_soybeans</th>\n",
              "      <th>price_corn</th>\n",
              "      <th>price_soybean_meal</th>\n",
              "      <th>gdp_china</th>\n",
              "      <th>gdp_iran</th>\n",
              "      <th>gpd_netherlands</th>\n",
              "      <th>gdp_spain</th>\n",
              "      <th>gdp_thailand</th>\n",
              "      <th>gdp_world</th>\n",
              "      <th>gdp_egypt</th>\n",
              "      <th>gdp_japan</th>\n",
              "      <th>gdp_vietnam</th>\n",
              "    </tr>\n",
              "  </thead>\n",
              "  <tbody>\n",
              "    <tr>\n",
              "      <th>0</th>\n",
              "      <td>105.761629</td>\n",
              "      <td>93.204180</td>\n",
              "      <td>124.012650</td>\n",
              "      <td>560.722750</td>\n",
              "      <td>106.976296</td>\n",
              "      <td>152.738204</td>\n",
              "      <td>156.728085</td>\n",
              "      <td>345.124057</td>\n",
              "      <td>173.936618</td>\n",
              "      <td>218.683678</td>\n",
              "      <td>180.133771</td>\n",
              "      <td>299.095195</td>\n",
              "    </tr>\n",
              "    <tr>\n",
              "      <th>1</th>\n",
              "      <td>84.160030</td>\n",
              "      <td>80.831375</td>\n",
              "      <td>77.421718</td>\n",
              "      <td>604.459124</td>\n",
              "      <td>109.008846</td>\n",
              "      <td>159.916900</td>\n",
              "      <td>163.780849</td>\n",
              "      <td>318.894628</td>\n",
              "      <td>178.458970</td>\n",
              "      <td>235.084954</td>\n",
              "      <td>178.152299</td>\n",
              "      <td>316.442716</td>\n",
              "    </tr>\n",
              "    <tr>\n",
              "      <th>2</th>\n",
              "      <td>65.928699</td>\n",
              "      <td>71.823936</td>\n",
              "      <td>67.601747</td>\n",
              "      <td>651.002477</td>\n",
              "      <td>109.335873</td>\n",
              "      <td>167.912745</td>\n",
              "      <td>171.478549</td>\n",
              "      <td>333.563781</td>\n",
              "      <td>184.883493</td>\n",
              "      <td>249.425136</td>\n",
              "      <td>177.617842</td>\n",
              "      <td>331.631967</td>\n",
              "    </tr>\n",
              "    <tr>\n",
              "      <th>3</th>\n",
              "      <td>68.993825</td>\n",
              "      <td>70.173520</td>\n",
              "      <td>82.934920</td>\n",
              "      <td>706.337687</td>\n",
              "      <td>116.880048</td>\n",
              "      <td>174.965080</td>\n",
              "      <td>180.223955</td>\n",
              "      <td>348.574151</td>\n",
              "      <td>193.757900</td>\n",
              "      <td>262.894093</td>\n",
              "      <td>182.591142</td>\n",
              "      <td>354.182940</td>\n",
              "    </tr>\n",
              "    <tr>\n",
              "      <th>4</th>\n",
              "      <td>63.605148</td>\n",
              "      <td>71.279115</td>\n",
              "      <td>80.029143</td>\n",
              "      <td>765.670053</td>\n",
              "      <td>117.815088</td>\n",
              "      <td>178.989277</td>\n",
              "      <td>187.252689</td>\n",
              "      <td>360.425672</td>\n",
              "      <td>198.601848</td>\n",
              "      <td>272.095387</td>\n",
              "      <td>183.321506</td>\n",
              "      <td>378.621563</td>\n",
              "    </tr>\n",
              "  </tbody>\n",
              "</table>\n",
              "</div>"
            ],
            "text/plain": [
              "   price_soybeans  price_corn  ...   gdp_japan  gdp_vietnam\n",
              "0      105.761629   93.204180  ...  180.133771   299.095195\n",
              "1       84.160030   80.831375  ...  178.152299   316.442716\n",
              "2       65.928699   71.823936  ...  177.617842   331.631967\n",
              "3       68.993825   70.173520  ...  182.591142   354.182940\n",
              "4       63.605148   71.279115  ...  183.321506   378.621563\n",
              "\n",
              "[5 rows x 12 columns]"
            ]
          },
          "metadata": {
            "tags": []
          },
          "execution_count": 62
        }
      ]
    },
    {
      "cell_type": "code",
      "metadata": {
        "id": "tX3w-oUXVyUQ",
        "colab_type": "code",
        "colab": {}
      },
      "source": [
        "def train_dataset(X_train, y_train, X_test, y_test):\n",
        "  \n",
        "  \n",
        "  reg = xgb.XGBRegressor(n_estimators=1000)\n",
        "  reg.fit(X_train, y_train,\n",
        "          eval_set=[(X_train, y_train), (X_test, y_test)],\n",
        "          early_stopping_rounds=50,\n",
        "        verbose=False) # Change verbose to True if you want to see it train\n",
        "\n",
        "  return reg\n",
        "\n"
      ],
      "execution_count": 63,
      "outputs": []
    },
    {
      "cell_type": "code",
      "metadata": {
        "id": "x7QXZ3V3Xa_b",
        "colab_type": "code",
        "colab": {
          "base_uri": "https://localhost:8080/",
          "height": 68
        },
        "outputId": "834d6bbf-10b0-47b0-da61-7d4b8d7db44e"
      },
      "source": [
        "corn_reg = train_dataset(Xcorn_year_train, ycorn_year_train, Xcorn_year_test, ycorn_year_test)\n",
        "soybean_reg = train_dataset(Xsoybean_year_train, ysoybean_year_train, Xsoybean_year_test, ysoybean_year_test)\n",
        "soybean_meal_reg = train_dataset(Xsoybean_meal_year_train, ysoybean_meal_year_train, Xsoybean_meal_year_test, ysoybean_meal_year_test)"
      ],
      "execution_count": 64,
      "outputs": [
        {
          "output_type": "stream",
          "text": [
            "[17:46:06] WARNING: /workspace/src/objective/regression_obj.cu:152: reg:linear is now deprecated in favor of reg:squarederror.\n",
            "[17:46:06] WARNING: /workspace/src/objective/regression_obj.cu:152: reg:linear is now deprecated in favor of reg:squarederror.\n",
            "[17:46:06] WARNING: /workspace/src/objective/regression_obj.cu:152: reg:linear is now deprecated in favor of reg:squarederror.\n"
          ],
          "name": "stdout"
        }
      ]
    },
    {
      "cell_type": "code",
      "metadata": {
        "id": "cTVnlkJQYKra",
        "colab_type": "code",
        "colab": {
          "base_uri": "https://localhost:8080/",
          "height": 851
        },
        "outputId": "99171fd4-dc10-49be-8def-b1a8ed7f2255"
      },
      "source": [
        "_ = plot_importance(corn_reg, height=0.9)\n",
        "_ = plot_importance(soybean_reg, height=0.9)\n",
        "_ = plot_importance(soybean_meal_reg, height=0.9)"
      ],
      "execution_count": 65,
      "outputs": [
        {
          "output_type": "display_data",
          "data": {
            "image/png": "[encoded data removed]",
            "text/plain": [
              "<Figure size 432x288 with 1 Axes>"
            ]
          },
          "metadata": {
            "tags": [],
            "needs_background": "light"
          }
        },
        {
          "output_type": "display_data",
          "data": {
            "image/png": "[encoded data removed]",
            "text/plain": [
              "<Figure size 432x288 with 1 Axes>"
            ]
          },
          "metadata": {
            "tags": [],
            "needs_background": "light"
          }
        },
        {
          "output_type": "display_data",
          "data": {
            "image/png": "[encoded data removed]",
            "text/plain": [
              "<Figure size 432x288 with 1 Axes>"
            ]
          },
          "metadata": {
            "tags": [],
            "needs_background": "light"
          }
        }
      ]
    },
    {
      "cell_type": "code",
      "metadata": {
        "id": "tSyQvZAjW1l-",
        "colab_type": "code",
        "colab": {
          "base_uri": "https://localhost:8080/",
          "height": 345
        },
        "outputId": "d4ef7c84-01dc-4422-f758-3d8a3d51a69b"
      },
      "source": [
        "corn_year_test['usd_Prediction'] = corn_reg.predict(Xcorn_year_test)\n",
        "corn_all = pd.concat([corn_year_train, corn_year_test], sort=False)\n",
        "_ = corn_all[['usd','usd_Prediction']].plot(figsize=(15, 5))"
      ],
      "execution_count": 66,
      "outputs": [
        {
          "output_type": "display_data",
          "data": {
            "image/png": "[encoded data removed]",
            "text/plain": [
              "<Figure size 1080x360 with 1 Axes>"
            ]
          },
          "metadata": {
            "tags": [],
            "needs_background": "light"
          }
        }
      ]
    },
    {
      "cell_type": "markdown",
      "metadata": {
        "id": "iaIqmNKQ88_7",
        "colab_type": "text"
      },
      "source": [
        "### Since the xgboost is not producing good results, I have decided to change to another method"
      ]
    },
    {
      "cell_type": "markdown",
      "metadata": {
        "id": "-HdCbbxpoNwk",
        "colab_type": "text"
      },
      "source": [
        "## Stats"
      ]
    },
    {
      "cell_type": "code",
      "metadata": {
        "id": "RfMMi1Fopdrn",
        "colab_type": "code",
        "colab": {
          "base_uri": "https://localhost:8080/",
          "height": 522
        },
        "outputId": "8c2833d3-1149-450a-cdb5-5c717e0a3549"
      },
      "source": [
        "\n",
        "\n",
        "res = sm.tsa.seasonal_decompose(corn.usd,freq=1,model='multiplicative')\n",
        "fig = res.plot()\n",
        "fig.set_figheight(8)\n",
        "fig.set_figwidth(15)\n",
        "plt.show()"
      ],
      "execution_count": 67,
      "outputs": [
        {
          "output_type": "display_data",
          "data": {
            "image/png": "[encoded data removed]",
            "text/plain": [
              "<Figure size 1080x576 with 4 Axes>"
            ]
          },
          "metadata": {
            "tags": [],
            "needs_background": "light"
          }
        }
      ]
    },
    {
      "cell_type": "code",
      "metadata": {
        "id": "d5_Dv9-pkyqG",
        "colab_type": "code",
        "colab": {
          "base_uri": "https://localhost:8080/",
          "height": 721
        },
        "outputId": "c15324eb-3ff8-46ed-feab-cef9060d272c"
      },
      "source": [
        "\n",
        "def tsplot(y, lags=None, figsize=BIG_FIG, syle='bmh'):\n",
        "        \n",
        "    with plt.style.context(style='bmh'):\n",
        "        fig = plt.figure(figsize=figsize)\n",
        "        layout = (2,2)\n",
        "        ts_ax = plt.subplot2grid(layout, (0,0), colspan=2)\n",
        "        acf_ax = plt.subplot2grid(layout, (1,0))\n",
        "        pacf_ax = plt.subplot2grid(layout, (1,1))\n",
        "        \n",
        "        y.plot(ax=ts_ax)\n",
        "        p_value = sm.tsa.stattools.adfuller(y)[1]\n",
        "        ts_ax.set_title('Time Series Analysis Plots\\n Dickey-Fuller: p={0:.5f}'.format(p_value))\n",
        "        smt.graphics.plot_acf(y, lags=lags, ax=acf_ax)\n",
        "        smt.graphics.plot_pacf(y, lags=lags, ax=pacf_ax)\n",
        "        plt.tight_layout()\n",
        "        \n",
        "tsplot(corn_year.usd, lags=20)\n",
        "\n",
        "# Take the first difference to remove to make the process stationary\n",
        "corn_diff = corn_year.usd - corn_year.usd.shift(1)\n",
        "\n",
        "tsplot(corn_diff[1:], lags=20)"
      ],
      "execution_count": 68,
      "outputs": [
        {
          "output_type": "display_data",
          "data": {
            "image/png": "[encoded data removed]",
            "text/plain": [
              "<Figure size 1080x360 with 3 Axes>"
            ]
          },
          "metadata": {
            "tags": [],
            "needs_background": "light"
          }
        },
        {
          "output_type": "display_data",
          "data": {
            "image/png": "[encoded data removed]",
            "text/plain": [
              "<Figure size 1080x360 with 3 Axes>"
            ]
          },
          "metadata": {
            "tags": [],
            "needs_background": "light"
          }
        }
      ]
    },
    {
      "cell_type": "code",
      "metadata": {
        "id": "P7-pCdAhu6sI",
        "colab_type": "code",
        "colab": {
          "base_uri": "https://localhost:8080/",
          "height": 282
        },
        "outputId": "309b2f0f-7bb8-4211-f270-90414a220f2d"
      },
      "source": [
        "from statsmodels.tsa.stattools import acf, pacf\n",
        "\n",
        "acf_vals = acf(corn_diff[1:])\n",
        "num_lags = 20\n",
        "plt.bar(range(num_lags), acf_vals[:num_lags])"
      ],
      "execution_count": 69,
      "outputs": [
        {
          "output_type": "execute_result",
          "data": {
            "text/plain": [
              "<BarContainer object of 20 artists>"
            ]
          },
          "metadata": {
            "tags": []
          },
          "execution_count": 69
        },
        {
          "output_type": "display_data",
          "data": {
            "image/png": "[encoded data removed]",
            "text/plain": [
              "<Figure size 432x288 with 1 Axes>"
            ]
          },
          "metadata": {
            "tags": [],
            "needs_background": "light"
          }
        }
      ]
    },
    {
      "cell_type": "markdown",
      "metadata": {
        "id": "r99QnIrhv6JC",
        "colab_type": "text"
      },
      "source": [
        "### Using FBProphet"
      ]
    },
    {
      "cell_type": "code",
      "metadata": {
        "id": "mWKlyDMKzUFv",
        "colab_type": "code",
        "colab": {
          "base_uri": "https://localhost:8080/",
          "height": 85
        },
        "outputId": "3e03ccb0-ddf4-43c6-f456-c34e18a40413"
      },
      "source": [
        "# Setup and train model and fit\n",
        "model = Prophet()\n",
        "model.fit(corn_year_train.reset_index().rename(columns={'year':'ds', 'usd':'y'}))"
      ],
      "execution_count": 70,
      "outputs": [
        {
          "output_type": "stream",
          "text": [
            "INFO:fbprophet:Disabling weekly seasonality. Run prophet with weekly_seasonality=True to override this.\n",
            "INFO:fbprophet:Disabling daily seasonality. Run prophet with daily_seasonality=True to override this.\n",
            "INFO:fbprophet:n_changepoints greater than number of observations. Using 13.\n"
          ],
          "name": "stderr"
        },
        {
          "output_type": "execute_result",
          "data": {
            "text/plain": [
              "<fbprophet.forecaster.Prophet at 0x7f1a35f34be0>"
            ]
          },
          "metadata": {
            "tags": []
          },
          "execution_count": 70
        }
      ]
    },
    {
      "cell_type": "code",
      "metadata": {
        "id": "HUlxzyRZ0EIi",
        "colab_type": "code",
        "colab": {}
      },
      "source": [
        "# Predict on training set with model\n",
        "corn_test_fcst = model.predict(df=corn_year_test.reset_index() \\\n",
        "                                   .rename(columns={'year':'ds'}))"
      ],
      "execution_count": 71,
      "outputs": []
    },
    {
      "cell_type": "code",
      "metadata": {
        "id": "yPcYQfK8za8o",
        "colab_type": "code",
        "colab": {
          "base_uri": "https://localhost:8080/",
          "height": 309
        },
        "outputId": "e413d8b8-c563-4f01-b93e-c56feea45a1a"
      },
      "source": [
        "corn_test_fcst.head()"
      ],
      "execution_count": 72,
      "outputs": [
        {
          "output_type": "execute_result",
          "data": {
            "text/html": [
              "<div>\n",
              "<style scoped>\n",
              "    .dataframe tbody tr th:only-of-type {\n",
              "        vertical-align: middle;\n",
              "    }\n",
              "\n",
              "    .dataframe tbody tr th {\n",
              "        vertical-align: top;\n",
              "    }\n",
              "\n",
              "    .dataframe thead th {\n",
              "        text-align: right;\n",
              "    }\n",
              "</style>\n",
              "<table border=\"1\" class=\"dataframe\">\n",
              "  <thead>\n",
              "    <tr style=\"text-align: right;\">\n",
              "      <th></th>\n",
              "      <th>ds</th>\n",
              "      <th>trend</th>\n",
              "      <th>yhat_lower</th>\n",
              "      <th>yhat_upper</th>\n",
              "      <th>trend_lower</th>\n",
              "      <th>trend_upper</th>\n",
              "      <th>additive_terms</th>\n",
              "      <th>additive_terms_lower</th>\n",
              "      <th>additive_terms_upper</th>\n",
              "      <th>yearly</th>\n",
              "      <th>yearly_lower</th>\n",
              "      <th>yearly_upper</th>\n",
              "      <th>multiplicative_terms</th>\n",
              "      <th>multiplicative_terms_lower</th>\n",
              "      <th>multiplicative_terms_upper</th>\n",
              "      <th>yhat</th>\n",
              "    </tr>\n",
              "  </thead>\n",
              "  <tbody>\n",
              "    <tr>\n",
              "      <th>0</th>\n",
              "      <td>2015-01-01</td>\n",
              "      <td>6.819827e+09</td>\n",
              "      <td>3.246227e+09</td>\n",
              "      <td>5.747784e+09</td>\n",
              "      <td>6.819827e+09</td>\n",
              "      <td>6.819827e+09</td>\n",
              "      <td>-2.308035e+09</td>\n",
              "      <td>-2.308035e+09</td>\n",
              "      <td>-2.308035e+09</td>\n",
              "      <td>-2.308035e+09</td>\n",
              "      <td>-2.308035e+09</td>\n",
              "      <td>-2.308035e+09</td>\n",
              "      <td>0.0</td>\n",
              "      <td>0.0</td>\n",
              "      <td>0.0</td>\n",
              "      <td>4.511791e+09</td>\n",
              "    </tr>\n",
              "    <tr>\n",
              "      <th>1</th>\n",
              "      <td>2016-01-01</td>\n",
              "      <td>7.125164e+09</td>\n",
              "      <td>3.491786e+09</td>\n",
              "      <td>6.179437e+09</td>\n",
              "      <td>7.125164e+09</td>\n",
              "      <td>7.125164e+09</td>\n",
              "      <td>-2.293800e+09</td>\n",
              "      <td>-2.293800e+09</td>\n",
              "      <td>-2.293800e+09</td>\n",
              "      <td>-2.293800e+09</td>\n",
              "      <td>-2.293800e+09</td>\n",
              "      <td>-2.293800e+09</td>\n",
              "      <td>0.0</td>\n",
              "      <td>0.0</td>\n",
              "      <td>0.0</td>\n",
              "      <td>4.831364e+09</td>\n",
              "    </tr>\n",
              "    <tr>\n",
              "      <th>2</th>\n",
              "      <td>2017-01-01</td>\n",
              "      <td>7.431339e+09</td>\n",
              "      <td>3.964999e+09</td>\n",
              "      <td>6.457074e+09</td>\n",
              "      <td>7.431339e+09</td>\n",
              "      <td>7.431339e+09</td>\n",
              "      <td>-2.248127e+09</td>\n",
              "      <td>-2.248127e+09</td>\n",
              "      <td>-2.248127e+09</td>\n",
              "      <td>-2.248127e+09</td>\n",
              "      <td>-2.248127e+09</td>\n",
              "      <td>-2.248127e+09</td>\n",
              "      <td>0.0</td>\n",
              "      <td>0.0</td>\n",
              "      <td>0.0</td>\n",
              "      <td>5.183212e+09</td>\n",
              "    </tr>\n",
              "    <tr>\n",
              "      <th>3</th>\n",
              "      <td>2018-01-01</td>\n",
              "      <td>7.736676e+09</td>\n",
              "      <td>4.142205e+09</td>\n",
              "      <td>6.744831e+09</td>\n",
              "      <td>7.736676e+09</td>\n",
              "      <td>7.736676e+09</td>\n",
              "      <td>-2.292805e+09</td>\n",
              "      <td>-2.292805e+09</td>\n",
              "      <td>-2.292805e+09</td>\n",
              "      <td>-2.292805e+09</td>\n",
              "      <td>-2.292805e+09</td>\n",
              "      <td>-2.292805e+09</td>\n",
              "      <td>0.0</td>\n",
              "      <td>0.0</td>\n",
              "      <td>0.0</td>\n",
              "      <td>5.443871e+09</td>\n",
              "    </tr>\n",
              "    <tr>\n",
              "      <th>4</th>\n",
              "      <td>2019-01-01</td>\n",
              "      <td>8.042014e+09</td>\n",
              "      <td>4.543561e+09</td>\n",
              "      <td>7.088612e+09</td>\n",
              "      <td>8.042014e+09</td>\n",
              "      <td>8.042014e+09</td>\n",
              "      <td>-2.308035e+09</td>\n",
              "      <td>-2.308035e+09</td>\n",
              "      <td>-2.308035e+09</td>\n",
              "      <td>-2.308035e+09</td>\n",
              "      <td>-2.308035e+09</td>\n",
              "      <td>-2.308035e+09</td>\n",
              "      <td>0.0</td>\n",
              "      <td>0.0</td>\n",
              "      <td>0.0</td>\n",
              "      <td>5.733979e+09</td>\n",
              "    </tr>\n",
              "  </tbody>\n",
              "</table>\n",
              "</div>"
            ],
            "text/plain": [
              "          ds         trend  ...  multiplicative_terms_upper          yhat\n",
              "0 2015-01-01  6.819827e+09  ...                         0.0  4.511791e+09\n",
              "1 2016-01-01  7.125164e+09  ...                         0.0  4.831364e+09\n",
              "2 2017-01-01  7.431339e+09  ...                         0.0  5.183212e+09\n",
              "3 2018-01-01  7.736676e+09  ...                         0.0  5.443871e+09\n",
              "4 2019-01-01  8.042014e+09  ...                         0.0  5.733979e+09\n",
              "\n",
              "[5 rows x 16 columns]"
            ]
          },
          "metadata": {
            "tags": []
          },
          "execution_count": 72
        }
      ]
    },
    {
      "cell_type": "code",
      "metadata": {
        "id": "v3WQI14e1JlF",
        "colab_type": "code",
        "colab": {
          "base_uri": "https://localhost:8080/",
          "height": 374
        },
        "outputId": "83e18d02-2fe1-477b-b647-95894c1949c3"
      },
      "source": [
        "# Plot the forecast\n",
        "f, ax = plt.subplots(1)\n",
        "f.set_figheight(5)\n",
        "f.set_figwidth(15)\n",
        "fig = model.plot(corn_test_fcst,\n",
        "                 ax=ax)\n",
        "plt.title(\"Inside Data Test\")\n",
        "plt.ylabel(\"USD\")\n",
        "plt.xlabel(\"Year\")\n",
        "plt.show()"
      ],
      "execution_count": 81,
      "outputs": [
        {
          "output_type": "display_data",
          "data": {
            "image/png": "[encoded data removed]",
            "text/plain": [
              "<Figure size 1080x360 with 1 Axes>"
            ]
          },
          "metadata": {
            "tags": [],
            "needs_background": "light"
          }
        }
      ]
    },
    {
      "cell_type": "code",
      "metadata": {
        "id": "RV21D1ZJ1dDq",
        "colab_type": "code",
        "colab": {
          "base_uri": "https://localhost:8080/",
          "height": 34
        },
        "outputId": "4bb418c1-b754-411d-9e88-039346849f0b"
      },
      "source": [
        "print(\"MAPE for the predictions on corn: %.2f%%\" %mean_absolute_percentage_error(y_true=corn_year_test['usd'],\n",
        "                   y_pred=corn_test_fcst['yhat']))"
      ],
      "execution_count": 82,
      "outputs": [
        {
          "output_type": "stream",
          "text": [
            "MAPE for the predictions on corn: 17.37%\n"
          ],
          "name": "stdout"
        }
      ]
    },
    {
      "cell_type": "markdown",
      "metadata": {
        "id": "h9pcH4Ll5Zun",
        "colab_type": "text"
      },
      "source": [
        "### Now forecasting to outside of the data\n"
      ]
    },
    {
      "cell_type": "code",
      "metadata": {
        "id": "95nY6WNe3X6Q",
        "colab_type": "code",
        "colab": {
          "base_uri": "https://localhost:8080/",
          "height": 85
        },
        "outputId": "ac0c51b8-309a-4156-8f40-25111daceafe"
      },
      "source": [
        "# Setup and train model and fit\n",
        "model = Prophet()\n",
        "model.fit(corn_year.reset_index().rename(columns={'year':'ds', 'usd':'y'}))"
      ],
      "execution_count": 83,
      "outputs": [
        {
          "output_type": "stream",
          "text": [
            "INFO:fbprophet:Disabling weekly seasonality. Run prophet with weekly_seasonality=True to override this.\n",
            "INFO:fbprophet:Disabling daily seasonality. Run prophet with daily_seasonality=True to override this.\n",
            "INFO:fbprophet:n_changepoints greater than number of observations. Using 17.\n"
          ],
          "name": "stderr"
        },
        {
          "output_type": "execute_result",
          "data": {
            "text/plain": [
              "<fbprophet.forecaster.Prophet at 0x7f1a31344cf8>"
            ]
          },
          "metadata": {
            "tags": []
          },
          "execution_count": 83
        }
      ]
    },
    {
      "cell_type": "code",
      "metadata": {
        "id": "-BgR4oek6YFL",
        "colab_type": "code",
        "colab": {
          "base_uri": "https://localhost:8080/",
          "height": 359
        },
        "outputId": "4c998223-9633-4c16-b8a7-dddd4224018d"
      },
      "source": [
        "corn_fcst = pd.DataFrame(range(2020, 2030), columns=[\"ds\"])\n",
        "corn_fcst"
      ],
      "execution_count": 84,
      "outputs": [
        {
          "output_type": "execute_result",
          "data": {
            "text/html": [
              "<div>\n",
              "<style scoped>\n",
              "    .dataframe tbody tr th:only-of-type {\n",
              "        vertical-align: middle;\n",
              "    }\n",
              "\n",
              "    .dataframe tbody tr th {\n",
              "        vertical-align: top;\n",
              "    }\n",
              "\n",
              "    .dataframe thead th {\n",
              "        text-align: right;\n",
              "    }\n",
              "</style>\n",
              "<table border=\"1\" class=\"dataframe\">\n",
              "  <thead>\n",
              "    <tr style=\"text-align: right;\">\n",
              "      <th></th>\n",
              "      <th>ds</th>\n",
              "    </tr>\n",
              "  </thead>\n",
              "  <tbody>\n",
              "    <tr>\n",
              "      <th>0</th>\n",
              "      <td>2020</td>\n",
              "    </tr>\n",
              "    <tr>\n",
              "      <th>1</th>\n",
              "      <td>2021</td>\n",
              "    </tr>\n",
              "    <tr>\n",
              "      <th>2</th>\n",
              "      <td>2022</td>\n",
              "    </tr>\n",
              "    <tr>\n",
              "      <th>3</th>\n",
              "      <td>2023</td>\n",
              "    </tr>\n",
              "    <tr>\n",
              "      <th>4</th>\n",
              "      <td>2024</td>\n",
              "    </tr>\n",
              "    <tr>\n",
              "      <th>5</th>\n",
              "      <td>2025</td>\n",
              "    </tr>\n",
              "    <tr>\n",
              "      <th>6</th>\n",
              "      <td>2026</td>\n",
              "    </tr>\n",
              "    <tr>\n",
              "      <th>7</th>\n",
              "      <td>2027</td>\n",
              "    </tr>\n",
              "    <tr>\n",
              "      <th>8</th>\n",
              "      <td>2028</td>\n",
              "    </tr>\n",
              "    <tr>\n",
              "      <th>9</th>\n",
              "      <td>2029</td>\n",
              "    </tr>\n",
              "  </tbody>\n",
              "</table>\n",
              "</div>"
            ],
            "text/plain": [
              "     ds\n",
              "0  2020\n",
              "1  2021\n",
              "2  2022\n",
              "3  2023\n",
              "4  2024\n",
              "5  2025\n",
              "6  2026\n",
              "7  2027\n",
              "8  2028\n",
              "9  2029"
            ]
          },
          "metadata": {
            "tags": []
          },
          "execution_count": 84
        }
      ]
    },
    {
      "cell_type": "code",
      "metadata": {
        "id": "Ud_530lo6OdS",
        "colab_type": "code",
        "colab": {}
      },
      "source": [
        "# Predict on training set with model\n",
        "corn_fcst = model.predict(df=corn_fcst)"
      ],
      "execution_count": 85,
      "outputs": []
    },
    {
      "cell_type": "code",
      "metadata": {
        "id": "iuhkWR7N649B",
        "colab_type": "code",
        "colab": {
          "base_uri": "https://localhost:8080/",
          "height": 374
        },
        "outputId": "0a1ac032-88e2-4774-ff3c-aba13ca5c84e"
      },
      "source": [
        "# Plot the forecast\n",
        "f, ax = plt.subplots(1)\n",
        "f.set_figheight(5)\n",
        "f.set_figwidth(15)\n",
        "fig = model.plot(corn_fcst,\n",
        "                 ax=ax)\n",
        "plt.title(\"Corn Forecast\")\n",
        "plt.ylabel(\"USD\")\n",
        "plt.xlabel(\"Year\")\n",
        "plt.show()"
      ],
      "execution_count": 86,
      "outputs": [
        {
          "output_type": "display_data",
          "data": {
            "image/png": "[encoded data removed]",
            "text/plain": [
              "<Figure size 1080x360 with 1 Axes>"
            ]
          },
          "metadata": {
            "tags": [],
            "needs_background": "light"
          }
        }
      ]
    },
    {
      "cell_type": "markdown",
      "metadata": {
        "id": "xySmrvRl7M74",
        "colab_type": "text"
      },
      "source": [
        "## To the other two products"
      ]
    },
    {
      "cell_type": "code",
      "metadata": {
        "id": "4Vjny8697QnW",
        "colab_type": "code",
        "colab": {
          "base_uri": "https://localhost:8080/",
          "height": 425
        },
        "outputId": "66c8aeb5-93ed-4cfb-af4b-bf0402a1bea1"
      },
      "source": [
        "# Setup and train model and fit\n",
        "model = Prophet()\n",
        "model.fit(soybean_year.reset_index().rename(columns={'year':'ds', 'usd':'y'}))\n",
        "soybean_fcst = pd.DataFrame(range(2020, 2030), columns=[\"ds\"])\n",
        "# Predict on training set with model\n",
        "soybean_fcst = model.predict(df=soybean_fcst)\n",
        "# Plot the forecast\n",
        "f, ax = plt.subplots(1)\n",
        "f.set_figheight(5)\n",
        "f.set_figwidth(15)\n",
        "fig = model.plot(soybean_fcst,\n",
        "                 ax=ax)\n",
        "plt.title(\"Soybean Forecast\")\n",
        "plt.ylabel(\"USD\")\n",
        "plt.xlabel(\"Year\")\n",
        "plt.show()\n"
      ],
      "execution_count": 87,
      "outputs": [
        {
          "output_type": "stream",
          "text": [
            "INFO:fbprophet:Disabling weekly seasonality. Run prophet with weekly_seasonality=True to override this.\n",
            "INFO:fbprophet:Disabling daily seasonality. Run prophet with daily_seasonality=True to override this.\n",
            "INFO:fbprophet:n_changepoints greater than number of observations. Using 17.\n"
          ],
          "name": "stderr"
        },
        {
          "output_type": "display_data",
          "data": {
            "image/png": "[encoded data removed]",
            "text/plain": [
              "<Figure size 1080x360 with 1 Axes>"
            ]
          },
          "metadata": {
            "tags": [],
            "needs_background": "light"
          }
        }
      ]
    },
    {
      "cell_type": "code",
      "metadata": {
        "id": "1auaDwyX8WaC",
        "colab_type": "code",
        "colab": {
          "base_uri": "https://localhost:8080/",
          "height": 425
        },
        "outputId": "24c490bf-42e8-4015-cee5-415be68f077e"
      },
      "source": [
        "# Setup and train model and fit\n",
        "model = Prophet()\n",
        "model.fit(soybean_meal_year.reset_index().rename(columns={'year':'ds', 'usd':'y'}))\n",
        "soybean_meal_fcst = pd.DataFrame(range(2020, 2030), columns=[\"ds\"])\n",
        "# Predict on training set with model\n",
        "soybean_meal_fcst = model.predict(df=soybean_meal_fcst)\n",
        "# Plot the forecast\n",
        "f, ax = plt.subplots(1)\n",
        "f.set_figheight(5)\n",
        "f.set_figwidth(15)\n",
        "fig = model.plot(soybean_meal_fcst,\n",
        "                 ax=ax)\n",
        "plt.title(\"soybean meal Forecast\")\n",
        "plt.ylabel(\"USD\")\n",
        "plt.xlabel(\"Year\")\n",
        "plt.show()"
      ],
      "execution_count": 88,
      "outputs": [
        {
          "output_type": "stream",
          "text": [
            "INFO:fbprophet:Disabling weekly seasonality. Run prophet with weekly_seasonality=True to override this.\n",
            "INFO:fbprophet:Disabling daily seasonality. Run prophet with daily_seasonality=True to override this.\n",
            "INFO:fbprophet:n_changepoints greater than number of observations. Using 17.\n"
          ],
          "name": "stderr"
        },
        {
          "output_type": "display_data",
          "data": {
            "image/png": "[encoded data removed]",
            "text/plain": [
              "<Figure size 1080x360 with 1 Axes>"
            ]
          },
          "metadata": {
            "tags": [],
            "needs_background": "light"
          }
        }
      ]
    },
    {
      "cell_type": "code",
      "metadata": {
        "id": "n0LGgFe8jQ-E",
        "colab_type": "code",
        "colab": {}
      },
      "source": [
        ""
      ],
      "execution_count": null,
      "outputs": []
    }
  ]
}